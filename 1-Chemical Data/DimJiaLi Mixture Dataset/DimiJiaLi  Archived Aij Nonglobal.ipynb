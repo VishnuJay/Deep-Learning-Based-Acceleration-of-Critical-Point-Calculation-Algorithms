{
 "cells": [
  {
   "cell_type": "code",
   "execution_count": 1,
   "metadata": {},
   "outputs": [],
   "source": [
    "import scipy as sp\n",
    "import matplotlib as plt\n",
    "import jax\n",
    "import jax.numpy as jnp\n",
    "import os\n",
    "import pandas as pd\n",
    "from ast import literal_eval\n",
    "import sys\n",
    "import time\n",
    "from IPython.display import clear_output\n",
    "\n",
    "#Redirect print output.\n",
    "f = open('MDFullResults.txt', 'w')\n",
    "sys.stdout = f\n",
    "\n",
    "#Method Based On:\n",
    "#Dimitrakopoulos, P., Jia, W. & Li, C. \n",
    "#An Improved Computational Method for the Calculation of Mixture Liquid–Vapor Critical Points. \n",
    "#Int J Thermophys 35, 865–889 (2014). https://doi.org/10.1007/s10765-014-1680-7"
   ]
  },
  {
   "cell_type": "code",
   "execution_count": 2,
   "metadata": {},
   "outputs": [],
   "source": [
    "def LookUpMix(MxN):\n",
    "    #Read from mixture.csv file to get components.\n",
    "    global mxNames\n",
    "    path = os.getcwd()\n",
    "    Mdf = pd.read_csv(path + \"/Mixture Compositions.csv\", index_col = \"Mixture No.\")\n",
    "    mixture = Mdf.iloc[MxN, :]\n",
    "    mxNames = mixture.index[mixture.notnull()]  \n",
    "    \n",
    "    #Assign compositions vlaues for components.\n",
    "    global y\n",
    "    y = mixture[mixture.notnull()].to_numpy()\n",
    "    \n",
    "    \n",
    "    #Define global variables from mixture props.\n",
    "    global Tc, Pc, w, EOS, C, n, n_tot, R, Vc, k\n",
    "    R = 8.31446 #J/(mol*K)\n",
    "    \n",
    "    #Obtain component critical values from critical properties list.\n",
    "    Cdf = pd.read_csv(path + \"/Chemical Critical Properties.csv\")\n",
    "    Pc = Cdf.loc[Cdf[\"Component\"].isin(mxNames), \"Pc (MPa)\"].to_numpy()*10**6 # Pa\n",
    "    Tc = Cdf.loc[Cdf[\"Component\"].isin(mxNames), \"Tc (K)\"].to_numpy() #K\n",
    "    Vc = Cdf.loc[Cdf[\"Component\"].isin(mxNames), \"Vc (l/mol)\"].to_numpy()*0.001 #m^3\n",
    "    w = Cdf.loc[Cdf[\"Component\"].isin(mxNames), \"w\"].to_numpy()\n",
    "    \n",
    "    #Define mol vector and number of components.\n",
    "    n_tot = 1 #mol\n",
    "    n = y*n_tot\n",
    "    C = len(n)\n",
    "    \n",
    "    #Unpack binaqry interaction coefficients\n",
    "    kdf = pd.read_csv(path + \"/Binary Interactions.csv\", index_col = \"Component\")\n",
    "    k = []\n",
    "    for i in range(C):\n",
    "        klist = kdf.loc[mxNames[i], :]\n",
    "        klist = klist.loc[klist.index.isin(mxNames)]\n",
    "        k.append(klist.to_numpy())\n",
    "    k = jnp.array(k)\n",
    "\n",
    "    EOS = 'SRK'\n",
    "    print(\"Components: \"+str(mxNames.values)+\" At:\"+str(y)+\" Using \"+EOS)\n",
    "    print(\"---------------------------------------------\")"
   ]
  },
  {
   "cell_type": "code",
   "execution_count": 3,
   "metadata": {},
   "outputs": [],
   "source": [
    "#N_bar, the total change in mols.\n",
    "def N_bar(dnvec):\n",
    "    return jnp.sum((dnvec))"
   ]
  },
  {
   "cell_type": "code",
   "execution_count": 4,
   "metadata": {},
   "outputs": [],
   "source": [
    "#nu, a constant dependant on EOS, that affects a.\n",
    "def nu():\n",
    "    if EOS == 'SRK':\n",
    "        return 0.42748\n",
    "    if EOS == 'PR':\n",
    "        return 0.45724"
   ]
  },
  {
   "cell_type": "code",
   "execution_count": 5,
   "metadata": {},
   "outputs": [],
   "source": [
    "#c, the accentricity polynomial.\n",
    "def c(i):\n",
    "    if EOS == 'SRK':\n",
    "        ci = 0.48\n",
    "        ci += 1.574*w[i]\n",
    "        ci += -0.176*w[i]**2\n",
    "        return ci\n",
    "    if EOS == 'PR':\n",
    "        ci = 0.37464\n",
    "        ci += 1.54226*w[i]\n",
    "        ci += -0.26992*w[i]**2\n",
    "        return ci"
   ]
  },
  {
   "cell_type": "code",
   "execution_count": 6,
   "metadata": {},
   "outputs": [],
   "source": [
    "#ai, the attraction paramater of component i.\n",
    "def ai(i, Tc_mx):\n",
    "    ai = (R*Tc[i])**2*nu()/Pc[i]\n",
    "    ai = ai*(1 + c(i)*(1-(Tc_mx/Tc[i])**0.5))**2\n",
    "    return ai"
   ]
  },
  {
   "cell_type": "code",
   "execution_count": 7,
   "metadata": {},
   "outputs": [],
   "source": [
    "#aij, the binary attraction paramater of component system i-j.\n",
    "def aij(i, j, Tc_mx):\n",
    "    aij = (ai(i, Tc_mx)*ai(j, Tc_mx))**0.5*(1-k[i][j])\n",
    "    return aij"
   ]
  },
  {
   "cell_type": "code",
   "execution_count": 8,
   "metadata": {},
   "outputs": [],
   "source": [
    "#bi, the repulsion paramater of component i.\n",
    "def b(i):\n",
    "    if EOS == 'SRK':\n",
    "        bi = 0.08664*R*Tc[i]/Pc[i]\n",
    "        return bi\n",
    "    if EOS == 'PR':\n",
    "        bi = 0.07780*R*Tc[i]/Pc[i]\n",
    "        return bi"
   ]
  },
  {
   "cell_type": "code",
   "execution_count": 9,
   "metadata": {},
   "outputs": [],
   "source": [
    "#D1, a parameter that defines the EOS.\n",
    "def D1():\n",
    "    if EOS == 'SRK':\n",
    "        u0 = 1\n",
    "        w0 = 0\n",
    "    if EOS == 'PR':\n",
    "        u0 = 2\n",
    "        w0 = -1      \n",
    "    D1 = (u0 + jnp.sqrt(u0**2-4*w0))/2\n",
    "    return D1"
   ]
  },
  {
   "cell_type": "code",
   "execution_count": 10,
   "metadata": {},
   "outputs": [],
   "source": [
    "#D2, a parameter that defines the EOS.\n",
    "def D2():\n",
    "    if EOS == 'SRK':\n",
    "        u0 = 1\n",
    "        w0 = 0\n",
    "    if EOS == 'PR':\n",
    "        u0 = 2\n",
    "        w0 = -1      \n",
    "    D2 = (u0 - jnp.sqrt(u0**2-4*w0))/2\n",
    "    return D2"
   ]
  },
  {
   "cell_type": "code",
   "execution_count": 11,
   "metadata": {},
   "outputs": [],
   "source": [
    "#a_tot, the weighted sum of binary attraction interactions.\n",
    "def a_tot(Tc_mx):\n",
    "    a_t = 0\n",
    "    for i in range(C):\n",
    "        for j in range(C):\n",
    "            a_t += n[i]*n[j]/n_tot**2*aij(i, j, Tc_mx)\n",
    "    return a_t"
   ]
  },
  {
   "cell_type": "code",
   "execution_count": 12,
   "metadata": {},
   "outputs": [],
   "source": [
    "#b_tot, the weighted sum of repulsion interactions.\n",
    "def b_tot():\n",
    "    b_t = 0\n",
    "    for i in range(C):\n",
    "        b_t += y[i]*b(i)\n",
    "    return b_t"
   ]
  },
  {
   "cell_type": "code",
   "execution_count": 13,
   "metadata": {},
   "outputs": [],
   "source": [
    "#alphak, the relative attraction of all interactions with component k.\n",
    "def alpha(k, Tc_mx):\n",
    "    alpk = 0\n",
    "    for i in range(C):\n",
    "        alpk += y[i]*aij(i, k, Tc_mx)\n",
    "    return alpk/a_tot(Tc_mx)"
   ]
  },
  {
   "cell_type": "code",
   "execution_count": 14,
   "metadata": {},
   "outputs": [],
   "source": [
    "#alpha_bar, total change in the alphaks from delta_n.\n",
    "def alpha_bar(dnvec, Tc_mx):\n",
    "    alp_bar = 0\n",
    "    for i in range(C):\n",
    "        alp_bar += dnvec[i]*alpha(i, Tc_mx)\n",
    "    return alp_bar"
   ]
  },
  {
   "cell_type": "code",
   "execution_count": 15,
   "metadata": {},
   "outputs": [],
   "source": [
    "#a_bar, the realtive change in a_tot due from delta_n.\n",
    "def a_bar(dnvec, Tc_mx):\n",
    "    a_b = 0\n",
    "    for i in range(C):\n",
    "        for j in range(C):\n",
    "            a_b += dnvec[i]*dnvec[j]*aij(i, j, Tc_mx)\n",
    "    a_b = a_b/a_tot(Tc_mx)\n",
    "    return a_b"
   ]
  },
  {
   "cell_type": "code",
   "execution_count": 16,
   "metadata": {},
   "outputs": [],
   "source": [
    "#betai, the relative repulsion of component k.\n",
    "def beta(i):\n",
    "    return b(i)/b_tot()"
   ]
  },
  {
   "cell_type": "code",
   "execution_count": 17,
   "metadata": {},
   "outputs": [],
   "source": [
    "#beta_bar, the total change in betais from delta_n.\n",
    "def beta_bar(dnvec):\n",
    "    bet_bar = 0\n",
    "    for i in range(C):\n",
    "        bet_bar += dnvec[i]*beta(i)\n",
    "    return bet_bar"
   ]
  },
  {
   "cell_type": "code",
   "execution_count": 18,
   "metadata": {},
   "outputs": [],
   "source": [
    "#K, the ratio of critcal volume of mixture to repulsion parameter.\n",
    "def K(Vc_mx):\n",
    "    return Vc_mx/b_tot()"
   ]
  },
  {
   "cell_type": "code",
   "execution_count": 19,
   "metadata": {},
   "outputs": [],
   "source": [
    "#F1-F6 are EOS based factors which are f(D1, D2, K)\n",
    "def F1(Vc_mx):\n",
    "    return 1/(K(Vc_mx)-1)\n",
    "\n",
    "def F2(Vc_mx):\n",
    "    F2 = 2/(D1()-D2())\n",
    "    F2 *= (D1()/(K(Vc_mx)+D1())-D2()/(K(Vc_mx)+D2()))\n",
    "    return F2\n",
    "\n",
    "def F3(Vc_mx):\n",
    "    F3 = 1/(D1()-D2())\n",
    "    F3 *= ((D1()/(K(Vc_mx)+D1()))**2-(D2()/(K(Vc_mx)+D2()))**2)\n",
    "    return F3\n",
    "\n",
    "def F4(Vc_mx):\n",
    "    F4 = 1/(D1()-D2())\n",
    "    F4 *= ((D1()/(K(Vc_mx)+D1()))**3-(D2()/(K(Vc_mx)+D2()))**3)\n",
    "    return F4\n",
    "\n",
    "def F5(Vc_mx):\n",
    "    F5 = 2/(D1()-D2())\n",
    "    F5 *= jnp.log((K(Vc_mx)+D1())/(K(Vc_mx)+D2()))\n",
    "    return F5\n",
    "\n",
    "def F6(Vc_mx):\n",
    "    F6 = 2/(D1()-D2())\n",
    "    F6 *= (D1()/(K(Vc_mx)+D1())-D2()/(K(Vc_mx)+D2()))-jnp.log((K(Vc_mx)+D1())/(K(Vc_mx)+D2()))\n",
    "    return F6"
   ]
  },
  {
   "cell_type": "code",
   "execution_count": 20,
   "metadata": {},
   "outputs": [],
   "source": [
    "#Generalized vector of functions that descirbes a cubic equation of state.\n",
    "def GeneralizedCubicFunction(xvec):\n",
    "    #Unpack input xvec.\n",
    "    Tc_mx = xvec[0]\n",
    "    Vc_mx = xvec[1]\n",
    "    dnvec = xvec[2:]\n",
    "    \n",
    "    fvec = jnp.zeros([1,len(xvec)])\n",
    "    \n",
    "    #Calculate variable values\n",
    "    a_totv = a_tot(Tc_mx)\n",
    "    b_totv = b_tot()\n",
    "    N_barv = N_bar(dnvec)\n",
    "    a_barv = a_bar(dnvec, Tc_mx)\n",
    "    alpha_barv = alpha_bar(dnvec, Tc_mx)\n",
    "    beta_barv = beta_bar(dnvec)\n",
    "    \n",
    "    F1v = F1(Vc_mx)\n",
    "    F2v = F2(Vc_mx)\n",
    "    F3v = F3(Vc_mx)\n",
    "    F4v = F4(Vc_mx)\n",
    "    F5v = F5(Vc_mx)\n",
    "    F6v = F6(Vc_mx)\n",
    "    \n",
    "    \n",
    "    #First derivative of each component's Helmholtz Energy should be 0. \n",
    "    for i in range(C):\n",
    "        betav = beta(i)\n",
    "        pA = R*Tc_mx/n_tot\n",
    "        pB = a_totv/(b_totv*n_tot)\n",
    "        A1 = dnvec[i]/y[i]\n",
    "        A2 = F1v*(betav*N_barv + beta_barv)\n",
    "        A3 = betav*F1v**2*beta_barv\n",
    "        B1 = betav*beta_barv*F3v\n",
    "        B2 = 0\n",
    "        for j in range(C):\n",
    "            B2 += dnvec[j]*aij(i, j, Tc_mx)\n",
    "        B2 = -F5v/a_totv*B2\n",
    "        B3 = F6v*(betav*beta_barv-alpha(i, Tc_mx)*beta_barv-alpha_barv*betav)\n",
    "        A = pA*(A1+A2+A3)\n",
    "        B = pB*(B1+B2+B3)\n",
    "        fvec = fvec.at[0,i].set(A+B)\n",
    "    \n",
    "    #Sum of all second derivatives of Helmholtz Energy should be 0.\n",
    "    pA = R*Tc_mx/n_tot**2\n",
    "    pB = a_totv/(b_totv*n_tot**2)\n",
    "    A1 = 0\n",
    "    for i in range(C):\n",
    "        A1 += dnvec[i]**3/y[i]**2\n",
    "    A1 = -A1\n",
    "    A2 = 3*(N_barv*(beta_barv*F1v)**2)\n",
    "    A3 = 2*((F1v*beta_barv)**3)\n",
    "    B1 = 3*(beta_barv**2)*((2*alpha_barv-beta_barv)*(F3v+F6v))\n",
    "    B2 = -2*(beta_barv**3)*F4v\n",
    "    B3 = -3*beta_barv*a_barv*F6v\n",
    "    A = pA*(A1+A2+A3)\n",
    "    B = pB*(B1+B2+B3)\n",
    "    fvec = fvec.at[0,C].set(A+B)\n",
    "    \n",
    "    #Euclidean distance of delta_n should be 1.\n",
    "    norm_mols = 0\n",
    "    for i in range(C):\n",
    "        norm_mols += dnvec[i]**2\n",
    "    norm_mols += -1\n",
    "    fvec = fvec.at[0,C+1].set(norm_mols)\n",
    "    \n",
    "    return fvec"
   ]
  },
  {
   "cell_type": "code",
   "execution_count": 21,
   "metadata": {},
   "outputs": [],
   "source": [
    "def InitializeNR():\n",
    "    #Initialize first guess based on composition and component critical values.\n",
    "    dn0 = jnp.zeros(jnp.shape(n))\n",
    "    Tc0 = 0\n",
    "    Vc0 = 0\n",
    "    for i in range(C):\n",
    "        Vc0 += y[i]*Vc[i]\n",
    "        Tc0 += y[i]*Tc[i]\n",
    "        dn0 = dn0.at[i].set(y[i]**(2/3))\n",
    "    Tc0 = 3*Tc0\n",
    "    return Tc0, Vc0, dn0"
   ]
  },
  {
   "cell_type": "code",
   "execution_count": 25,
   "metadata": {},
   "outputs": [],
   "source": [
    "def NewtonRaphson(MxN):\n",
    "    #LookUpMixture to create all nesseccary globals.\n",
    "    df = LookUpMix(MxN)\n",
    "    \n",
    "    #Initialize first xvec.\n",
    "    temptc, tempvc, tempdn = InitializeNR()\n",
    "    x0vec = jnp.array([temptc, tempvc])\n",
    "    x0vec = jnp.append(x0vec, tempdn)\n",
    "    print(\"Initial X-Vector Guess:\")\n",
    "    print(x0vec)\n",
    "    print(\"---------------------------------------------\")\n",
    "    \n",
    "    start_time = time.time()\n",
    "    \n",
    "    #Create Jacobian matrix function and initialize F matrix.\n",
    "    Fmat = jnp.zeros([1, len(x0vec)])\n",
    "    GCF = jax.jit(GeneralizedCubicFunction)\n",
    "    Jmat = jax.jacfwd(GCF)\n",
    "    #Jmat = jax.jacfwd(GeneralizedCubicFunction)\n",
    "    \n",
    "    #Iterate with x(k+1) = x(k) + D*dx.\n",
    "    xvec = x0vec\n",
    "    dxvec = jnp.ones(jnp.shape(xvec))\n",
    "    itr = 0\n",
    "    itr_time = 0\n",
    "    \n",
    "    print(\"dxVector Magnitudes:\")\n",
    "    while (abs(dxvec[0])>1e-4 or abs(dxvec[1])>10e-8 or any(abs(dxvec[2:])>1e-4)):\n",
    "        #Display to console current run status.\n",
    "        clear_output(wait = True)\n",
    "        display(\"Current Status:\")\n",
    "        display(\"Mixture \"+str(MxN)+\" Iteration \"+str(itr))\n",
    "        display(\"Last Iteration Time: \"+str(itr_time))\n",
    "        \n",
    "        #Count iterations for dampening factor.\n",
    "        itr_start = time.time()\n",
    "        itr += 1\n",
    "        \n",
    "        #Calcualte function values and Jacobian at xvec(k).\n",
    "        F = GeneralizedCubicFunction(xvec)      \n",
    "        Fmat = jnp.append(Fmat, F, axis = 0)\n",
    "        F = -1*jnp.transpose(F)\n",
    "        J = Jmat(xvec)[0]\n",
    "\n",
    "        #Solve dxvec, uses LU decomposition with partial pivoting.\n",
    "        dxvec = jnp.linalg.solve(J, F)\n",
    "        dxvec = jnp.transpose(dxvec)\n",
    "        dxvec = jnp.reshape(dxvec, [jnp.shape(J)[0]])\n",
    "        \n",
    "        \n",
    "        #Define Q, the dampening factor. 0 for binary mixtures, and 518 for ~13 iterations for non-binary.\n",
    "        if C ==2:\n",
    "            Q = 0\n",
    "        else:\n",
    "            Q =518\n",
    "        #Apply dampening.\n",
    "        D = 1/(1+Q*jnp.exp(-0.5*itr))\n",
    "        xvec = xvec + D*dxvec\n",
    "        \n",
    "        #Max iterations is set as 30.\n",
    "        if itr>30:\n",
    "            print(\"Convergence not achieved in 30 iterations.\")\n",
    "            end_time = time.time()\n",
    "            rn_time = end_time-start_time\n",
    "            return Fmat, xvec, 0, itr, rn_time\n",
    "        \n",
    "        #Calculate iteration time for full report.\n",
    "        itr_end = time.time()\n",
    "        itr_time = itr_end-itr_start\n",
    "        print(str(itr)+\"    \"+str(round(jnp.linalg.norm(dxvec), 4))+\"    \"+str(round((itr_time), 4)))\n",
    "        \n",
    "    #Calculate Mixture runtime for summary report.    \n",
    "    end_time = time.time()\n",
    "    rn_time = end_time-start_time\n",
    "    \n",
    "    #Calculate final function values for evaltuation of convergence.\n",
    "    F = GeneralizedCubicFunction(xvec)      \n",
    "    Fmat = jnp.append(Fmat[1:, :], F, axis = 0)\n",
    "    \n",
    "    #Check convergence and calculate Pc.\n",
    "    conv_flag = jnp.linalg.norm(F-jnp.zeros(jnp.shape(F)))\n",
    "    if conv_flag >= 1:\n",
    "        print(\"Convergence achieved, function values high. Critical point may be false or nonexistant.\")\n",
    "    else:\n",
    "        print(\"Magnitude of final function vector: \" + str(round(conv_flag, 4)))\n",
    "    \n",
    "    print(\"---------------------------------------------\")\n",
    "    Pc = R*xvec[0]/(xvec[1]-b_tot()) - a_tot(xvec[0])/((xvec[1]+D1()*b_tot())*(xvec[1]+D2()*b_tot()))\n",
    "    \n",
    "    return Fmat, xvec, Pc, itr, rn_time"
   ]
  },
  {
   "cell_type": "code",
   "execution_count": 26,
   "metadata": {},
   "outputs": [],
   "source": [
    "def RunMixDataSet():\n",
    "    path = os.getcwd()\n",
    "    Mdf = pd.read_csv(path + \"/Mixture Compositions.csv\", index_col = \"Mixture No.\")\n",
    "    pd.set_option(\"display.precision\", 5)\n",
    "    dfRes = pd.DataFrame(index = Mdf.index, columns = [\"Pc (MPa)\", \"Tc (K)\", \"Vc (L/mol)\", \"Rhoc (mol/L)\", \"NumIter\", \"Time (s)\"])\n",
    "    \n",
    "    for MxN in range(jnp.shape(Mdf)[0]):\n",
    "        \n",
    "        Fmat, xvec, Pc, itr, rn_time = NewtonRaphson(MxN)\n",
    "\n",
    "        print(\"Magnitudes of function vector at each iteration.\")\n",
    "        print(jnp.linalg.norm(Fmat, axis = 1))\n",
    "        print(\"---------------------------------------------\")\n",
    "\n",
    "        print(\"Critical Pressure: \" + str(Pc/10**6) + \" MPa\")\n",
    "        print(\"Critical Temperature: \" + str(xvec[0]) + \" K\")\n",
    "        print(\"Critical Density: \" + str(1/xvec[1]) + \" mol/m^3\")\n",
    "        print(\"Delta Composition: \" + str(xvec[2:])+ \" mol\")\n",
    "        print(\"********************************************\")\n",
    "        print()\n",
    "        \n",
    "        dfRes.iloc[MxN, :] = [Pc/10**6, xvec[0], xvec[1]/0.001, 0.001/xvec[1], itr, rn_time]\n",
    "    \n",
    "    fSum = open(\"MDResultsSummary.txt\", \"w\")\n",
    "    fSum.write(dfRes.to_csv())\n",
    "    fSum.close()\n",
    "\n",
    "    return dfRes"
   ]
  },
  {
   "cell_type": "code",
   "execution_count": 27,
   "metadata": {},
   "outputs": [
    {
     "data": {
      "text/plain": [
       "'Current Status:'"
      ]
     },
     "metadata": {},
     "output_type": "display_data"
    },
    {
     "data": {
      "text/plain": [
       "'Mixture 11 Iteration 5'"
      ]
     },
     "metadata": {},
     "output_type": "display_data"
    },
    {
     "data": {
      "text/plain": [
       "'Last Iteration Time: 0.14987635612487793'"
      ]
     },
     "metadata": {},
     "output_type": "display_data"
    },
    {
     "ename": "KeyboardInterrupt",
     "evalue": "",
     "output_type": "error",
     "traceback": [
      "\u001b[0;31m---------------------------------------------------------------------------\u001b[0m",
      "\u001b[0;31mKeyboardInterrupt\u001b[0m                         Traceback (most recent call last)",
      "\u001b[0;32m/tmp/ipykernel_202230/2482208606.py\u001b[0m in \u001b[0;36m<module>\u001b[0;34m\u001b[0m\n\u001b[0;32m----> 1\u001b[0;31m \u001b[0mdfRes\u001b[0m \u001b[0;34m=\u001b[0m \u001b[0mRunMixDataSet\u001b[0m\u001b[0;34m(\u001b[0m\u001b[0;34m)\u001b[0m\u001b[0;34m\u001b[0m\u001b[0;34m\u001b[0m\u001b[0m\n\u001b[0m",
      "\u001b[0;32m/tmp/ipykernel_202230/3524158826.py\u001b[0m in \u001b[0;36mRunMixDataSet\u001b[0;34m()\u001b[0m\n\u001b[1;32m      7\u001b[0m     \u001b[0;32mfor\u001b[0m \u001b[0mMxN\u001b[0m \u001b[0;32min\u001b[0m \u001b[0mrange\u001b[0m\u001b[0;34m(\u001b[0m\u001b[0mjnp\u001b[0m\u001b[0;34m.\u001b[0m\u001b[0mshape\u001b[0m\u001b[0;34m(\u001b[0m\u001b[0mMdf\u001b[0m\u001b[0;34m)\u001b[0m\u001b[0;34m[\u001b[0m\u001b[0;36m0\u001b[0m\u001b[0;34m]\u001b[0m\u001b[0;34m)\u001b[0m\u001b[0;34m:\u001b[0m\u001b[0;34m\u001b[0m\u001b[0;34m\u001b[0m\u001b[0m\n\u001b[1;32m      8\u001b[0m \u001b[0;34m\u001b[0m\u001b[0m\n\u001b[0;32m----> 9\u001b[0;31m         \u001b[0mFmat\u001b[0m\u001b[0;34m,\u001b[0m \u001b[0mxvec\u001b[0m\u001b[0;34m,\u001b[0m \u001b[0mPc\u001b[0m\u001b[0;34m,\u001b[0m \u001b[0mitr\u001b[0m\u001b[0;34m,\u001b[0m \u001b[0mrn_time\u001b[0m \u001b[0;34m=\u001b[0m \u001b[0mNewtonRaphson\u001b[0m\u001b[0;34m(\u001b[0m\u001b[0mMxN\u001b[0m\u001b[0;34m)\u001b[0m\u001b[0;34m\u001b[0m\u001b[0;34m\u001b[0m\u001b[0m\n\u001b[0m\u001b[1;32m     10\u001b[0m \u001b[0;34m\u001b[0m\u001b[0m\n\u001b[1;32m     11\u001b[0m         \u001b[0mprint\u001b[0m\u001b[0;34m(\u001b[0m\u001b[0;34m\"Magnitudes of function vector at each iteration.\"\u001b[0m\u001b[0;34m)\u001b[0m\u001b[0;34m\u001b[0m\u001b[0;34m\u001b[0m\u001b[0m\n",
      "\u001b[0;32m/tmp/ipykernel_202230/1940807163.py\u001b[0m in \u001b[0;36mNewtonRaphson\u001b[0;34m(MxN)\u001b[0m\n\u001b[1;32m     38\u001b[0m \u001b[0;34m\u001b[0m\u001b[0m\n\u001b[1;32m     39\u001b[0m         \u001b[0;31m#Calcualte function values and Jacobian at xvec(k).\u001b[0m\u001b[0;34m\u001b[0m\u001b[0;34m\u001b[0m\u001b[0m\n\u001b[0;32m---> 40\u001b[0;31m         \u001b[0mF\u001b[0m \u001b[0;34m=\u001b[0m \u001b[0mGeneralizedCubicFunction\u001b[0m\u001b[0;34m(\u001b[0m\u001b[0mxvec\u001b[0m\u001b[0;34m)\u001b[0m\u001b[0;34m\u001b[0m\u001b[0;34m\u001b[0m\u001b[0m\n\u001b[0m\u001b[1;32m     41\u001b[0m         \u001b[0mFmat\u001b[0m \u001b[0;34m=\u001b[0m \u001b[0mjnp\u001b[0m\u001b[0;34m.\u001b[0m\u001b[0mappend\u001b[0m\u001b[0;34m(\u001b[0m\u001b[0mFmat\u001b[0m\u001b[0;34m,\u001b[0m \u001b[0mF\u001b[0m\u001b[0;34m,\u001b[0m \u001b[0maxis\u001b[0m \u001b[0;34m=\u001b[0m \u001b[0;36m0\u001b[0m\u001b[0;34m)\u001b[0m\u001b[0;34m\u001b[0m\u001b[0;34m\u001b[0m\u001b[0m\n\u001b[1;32m     42\u001b[0m         \u001b[0mF\u001b[0m \u001b[0;34m=\u001b[0m \u001b[0;34m-\u001b[0m\u001b[0;36m1\u001b[0m\u001b[0;34m*\u001b[0m\u001b[0mjnp\u001b[0m\u001b[0;34m.\u001b[0m\u001b[0mtranspose\u001b[0m\u001b[0;34m(\u001b[0m\u001b[0mF\u001b[0m\u001b[0;34m)\u001b[0m\u001b[0;34m\u001b[0m\u001b[0;34m\u001b[0m\u001b[0m\n",
      "\u001b[0;32m/tmp/ipykernel_202230/1997534512.py\u001b[0m in \u001b[0;36mGeneralizedCubicFunction\u001b[0;34m(xvec)\u001b[0m\n\u001b[1;32m     13\u001b[0m     \u001b[0mN_barv\u001b[0m \u001b[0;34m=\u001b[0m \u001b[0mN_bar\u001b[0m\u001b[0;34m(\u001b[0m\u001b[0mdnvec\u001b[0m\u001b[0;34m)\u001b[0m\u001b[0;34m\u001b[0m\u001b[0;34m\u001b[0m\u001b[0m\n\u001b[1;32m     14\u001b[0m     \u001b[0ma_barv\u001b[0m \u001b[0;34m=\u001b[0m \u001b[0ma_bar\u001b[0m\u001b[0;34m(\u001b[0m\u001b[0mdnvec\u001b[0m\u001b[0;34m,\u001b[0m \u001b[0mTc_mx\u001b[0m\u001b[0;34m)\u001b[0m\u001b[0;34m\u001b[0m\u001b[0;34m\u001b[0m\u001b[0m\n\u001b[0;32m---> 15\u001b[0;31m     \u001b[0malpha_barv\u001b[0m \u001b[0;34m=\u001b[0m \u001b[0malpha_bar\u001b[0m\u001b[0;34m(\u001b[0m\u001b[0mdnvec\u001b[0m\u001b[0;34m,\u001b[0m \u001b[0mTc_mx\u001b[0m\u001b[0;34m)\u001b[0m\u001b[0;34m\u001b[0m\u001b[0;34m\u001b[0m\u001b[0m\n\u001b[0m\u001b[1;32m     16\u001b[0m     \u001b[0mbeta_barv\u001b[0m \u001b[0;34m=\u001b[0m \u001b[0mbeta_bar\u001b[0m\u001b[0;34m(\u001b[0m\u001b[0mdnvec\u001b[0m\u001b[0;34m)\u001b[0m\u001b[0;34m\u001b[0m\u001b[0;34m\u001b[0m\u001b[0m\n\u001b[1;32m     17\u001b[0m \u001b[0;34m\u001b[0m\u001b[0m\n",
      "\u001b[0;32m/tmp/ipykernel_202230/1218121808.py\u001b[0m in \u001b[0;36malpha_bar\u001b[0;34m(dnvec, Tc_mx)\u001b[0m\n\u001b[1;32m      3\u001b[0m     \u001b[0malp_bar\u001b[0m \u001b[0;34m=\u001b[0m \u001b[0;36m0\u001b[0m\u001b[0;34m\u001b[0m\u001b[0;34m\u001b[0m\u001b[0m\n\u001b[1;32m      4\u001b[0m     \u001b[0;32mfor\u001b[0m \u001b[0mi\u001b[0m \u001b[0;32min\u001b[0m \u001b[0mrange\u001b[0m\u001b[0;34m(\u001b[0m\u001b[0mC\u001b[0m\u001b[0;34m)\u001b[0m\u001b[0;34m:\u001b[0m\u001b[0;34m\u001b[0m\u001b[0;34m\u001b[0m\u001b[0m\n\u001b[0;32m----> 5\u001b[0;31m         \u001b[0malp_bar\u001b[0m \u001b[0;34m+=\u001b[0m \u001b[0mdnvec\u001b[0m\u001b[0;34m[\u001b[0m\u001b[0mi\u001b[0m\u001b[0;34m]\u001b[0m\u001b[0;34m*\u001b[0m\u001b[0malpha\u001b[0m\u001b[0;34m(\u001b[0m\u001b[0mi\u001b[0m\u001b[0;34m,\u001b[0m \u001b[0mTc_mx\u001b[0m\u001b[0;34m)\u001b[0m\u001b[0;34m\u001b[0m\u001b[0;34m\u001b[0m\u001b[0m\n\u001b[0m\u001b[1;32m      6\u001b[0m     \u001b[0;32mreturn\u001b[0m \u001b[0malp_bar\u001b[0m\u001b[0;34m\u001b[0m\u001b[0;34m\u001b[0m\u001b[0m\n",
      "\u001b[0;32m/tmp/ipykernel_202230/467910783.py\u001b[0m in \u001b[0;36malpha\u001b[0;34m(k, Tc_mx)\u001b[0m\n\u001b[1;32m      4\u001b[0m     \u001b[0;32mfor\u001b[0m \u001b[0mi\u001b[0m \u001b[0;32min\u001b[0m \u001b[0mrange\u001b[0m\u001b[0;34m(\u001b[0m\u001b[0mC\u001b[0m\u001b[0;34m)\u001b[0m\u001b[0;34m:\u001b[0m\u001b[0;34m\u001b[0m\u001b[0;34m\u001b[0m\u001b[0m\n\u001b[1;32m      5\u001b[0m         \u001b[0malpk\u001b[0m \u001b[0;34m+=\u001b[0m \u001b[0my\u001b[0m\u001b[0;34m[\u001b[0m\u001b[0mi\u001b[0m\u001b[0;34m]\u001b[0m\u001b[0;34m*\u001b[0m\u001b[0maij\u001b[0m\u001b[0;34m(\u001b[0m\u001b[0mi\u001b[0m\u001b[0;34m,\u001b[0m \u001b[0mk\u001b[0m\u001b[0;34m,\u001b[0m \u001b[0mTc_mx\u001b[0m\u001b[0;34m)\u001b[0m\u001b[0;34m\u001b[0m\u001b[0;34m\u001b[0m\u001b[0m\n\u001b[0;32m----> 6\u001b[0;31m     \u001b[0;32mreturn\u001b[0m \u001b[0malpk\u001b[0m\u001b[0;34m/\u001b[0m\u001b[0ma_tot\u001b[0m\u001b[0;34m(\u001b[0m\u001b[0mTc_mx\u001b[0m\u001b[0;34m)\u001b[0m\u001b[0;34m\u001b[0m\u001b[0;34m\u001b[0m\u001b[0m\n\u001b[0m",
      "\u001b[0;32m/tmp/ipykernel_202230/3419722627.py\u001b[0m in \u001b[0;36ma_tot\u001b[0;34m(Tc_mx)\u001b[0m\n\u001b[1;32m      4\u001b[0m     \u001b[0;32mfor\u001b[0m \u001b[0mi\u001b[0m \u001b[0;32min\u001b[0m \u001b[0mrange\u001b[0m\u001b[0;34m(\u001b[0m\u001b[0mC\u001b[0m\u001b[0;34m)\u001b[0m\u001b[0;34m:\u001b[0m\u001b[0;34m\u001b[0m\u001b[0;34m\u001b[0m\u001b[0m\n\u001b[1;32m      5\u001b[0m         \u001b[0;32mfor\u001b[0m \u001b[0mj\u001b[0m \u001b[0;32min\u001b[0m \u001b[0mrange\u001b[0m\u001b[0;34m(\u001b[0m\u001b[0mC\u001b[0m\u001b[0;34m)\u001b[0m\u001b[0;34m:\u001b[0m\u001b[0;34m\u001b[0m\u001b[0;34m\u001b[0m\u001b[0m\n\u001b[0;32m----> 6\u001b[0;31m             \u001b[0ma_t\u001b[0m \u001b[0;34m+=\u001b[0m \u001b[0mn\u001b[0m\u001b[0;34m[\u001b[0m\u001b[0mi\u001b[0m\u001b[0;34m]\u001b[0m\u001b[0;34m*\u001b[0m\u001b[0mn\u001b[0m\u001b[0;34m[\u001b[0m\u001b[0mj\u001b[0m\u001b[0;34m]\u001b[0m\u001b[0;34m/\u001b[0m\u001b[0mn_tot\u001b[0m\u001b[0;34m**\u001b[0m\u001b[0;36m2\u001b[0m\u001b[0;34m*\u001b[0m\u001b[0maij\u001b[0m\u001b[0;34m(\u001b[0m\u001b[0mi\u001b[0m\u001b[0;34m,\u001b[0m \u001b[0mj\u001b[0m\u001b[0;34m,\u001b[0m \u001b[0mTc_mx\u001b[0m\u001b[0;34m)\u001b[0m\u001b[0;34m\u001b[0m\u001b[0;34m\u001b[0m\u001b[0m\n\u001b[0m\u001b[1;32m      7\u001b[0m     \u001b[0;32mreturn\u001b[0m \u001b[0ma_t\u001b[0m\u001b[0;34m\u001b[0m\u001b[0;34m\u001b[0m\u001b[0m\n",
      "\u001b[0;32m/tmp/ipykernel_202230/2853835936.py\u001b[0m in \u001b[0;36maij\u001b[0;34m(i, j, Tc_mx)\u001b[0m\n\u001b[1;32m      1\u001b[0m \u001b[0;31m#aij, the binary attraction paramater of component system i-j.\u001b[0m\u001b[0;34m\u001b[0m\u001b[0;34m\u001b[0m\u001b[0m\n\u001b[1;32m      2\u001b[0m \u001b[0;32mdef\u001b[0m \u001b[0maij\u001b[0m\u001b[0;34m(\u001b[0m\u001b[0mi\u001b[0m\u001b[0;34m,\u001b[0m \u001b[0mj\u001b[0m\u001b[0;34m,\u001b[0m \u001b[0mTc_mx\u001b[0m\u001b[0;34m)\u001b[0m\u001b[0;34m:\u001b[0m\u001b[0;34m\u001b[0m\u001b[0;34m\u001b[0m\u001b[0m\n\u001b[0;32m----> 3\u001b[0;31m     \u001b[0maij\u001b[0m \u001b[0;34m=\u001b[0m \u001b[0;34m(\u001b[0m\u001b[0mai\u001b[0m\u001b[0;34m(\u001b[0m\u001b[0mi\u001b[0m\u001b[0;34m,\u001b[0m \u001b[0mTc_mx\u001b[0m\u001b[0;34m)\u001b[0m\u001b[0;34m*\u001b[0m\u001b[0mai\u001b[0m\u001b[0;34m(\u001b[0m\u001b[0mj\u001b[0m\u001b[0;34m,\u001b[0m \u001b[0mTc_mx\u001b[0m\u001b[0;34m)\u001b[0m\u001b[0;34m)\u001b[0m\u001b[0;34m**\u001b[0m\u001b[0;36m0.5\u001b[0m\u001b[0;34m*\u001b[0m\u001b[0;34m(\u001b[0m\u001b[0;36m1\u001b[0m\u001b[0;34m-\u001b[0m\u001b[0mk\u001b[0m\u001b[0;34m[\u001b[0m\u001b[0mi\u001b[0m\u001b[0;34m]\u001b[0m\u001b[0;34m[\u001b[0m\u001b[0mj\u001b[0m\u001b[0;34m]\u001b[0m\u001b[0;34m)\u001b[0m\u001b[0;34m\u001b[0m\u001b[0;34m\u001b[0m\u001b[0m\n\u001b[0m\u001b[1;32m      4\u001b[0m     \u001b[0;32mreturn\u001b[0m \u001b[0maij\u001b[0m\u001b[0;34m\u001b[0m\u001b[0;34m\u001b[0m\u001b[0m\n",
      "\u001b[0;32m/gpfs/fs1/home/a/andyli/vishjay/.virtualenvs/CritPointDet/lib/python3.9/site-packages/jax/_src/array.py\u001b[0m in \u001b[0;36m__getitem__\u001b[0;34m(self, idx)\u001b[0m\n\u001b[1;32m    259\u001b[0m \u001b[0;34m\u001b[0m\u001b[0m\n\u001b[1;32m    260\u001b[0m     \u001b[0;32mif\u001b[0m \u001b[0mdispatch\u001b[0m\u001b[0;34m.\u001b[0m\u001b[0mis_single_device_sharding\u001b[0m\u001b[0;34m(\u001b[0m\u001b[0mself\u001b[0m\u001b[0;34m.\u001b[0m\u001b[0msharding\u001b[0m\u001b[0;34m)\u001b[0m \u001b[0;32mor\u001b[0m \u001b[0mself\u001b[0m\u001b[0;34m.\u001b[0m\u001b[0mis_fully_replicated\u001b[0m\u001b[0;34m:\u001b[0m\u001b[0;34m\u001b[0m\u001b[0;34m\u001b[0m\u001b[0m\n\u001b[0;32m--> 261\u001b[0;31m       \u001b[0;32mreturn\u001b[0m \u001b[0mlax_numpy\u001b[0m\u001b[0;34m.\u001b[0m\u001b[0m_rewriting_take\u001b[0m\u001b[0;34m(\u001b[0m\u001b[0mself\u001b[0m\u001b[0;34m,\u001b[0m \u001b[0midx\u001b[0m\u001b[0;34m)\u001b[0m\u001b[0;34m\u001b[0m\u001b[0;34m\u001b[0m\u001b[0m\n\u001b[0m\u001b[1;32m    262\u001b[0m     \u001b[0;31m# TODO(yashkatariya): Make it work for other Shardings too wherever its\u001b[0m\u001b[0;34m\u001b[0m\u001b[0;34m\u001b[0m\u001b[0m\n\u001b[1;32m    263\u001b[0m     \u001b[0;31m# possible to not do data movement.\u001b[0m\u001b[0;34m\u001b[0m\u001b[0;34m\u001b[0m\u001b[0m\n",
      "\u001b[0;32m/gpfs/fs1/home/a/andyli/vishjay/.virtualenvs/CritPointDet/lib/python3.9/site-packages/jax/_src/numpy/lax_numpy.py\u001b[0m in \u001b[0;36m_rewriting_take\u001b[0;34m(arr, idx, indices_are_sorted, unique_indices, mode, fill_value)\u001b[0m\n\u001b[1;32m   3792\u001b[0m       \u001b[0;31m# Use dynamic rather than static index here to avoid slow repeated execution:\u001b[0m\u001b[0;34m\u001b[0m\u001b[0;34m\u001b[0m\u001b[0m\n\u001b[1;32m   3793\u001b[0m       \u001b[0;31m# See https://github.com/google/jax/issues/12198\u001b[0m\u001b[0;34m\u001b[0m\u001b[0;34m\u001b[0m\u001b[0m\n\u001b[0;32m-> 3794\u001b[0;31m       \u001b[0;32mreturn\u001b[0m \u001b[0mlax\u001b[0m\u001b[0;34m.\u001b[0m\u001b[0mdynamic_index_in_dim\u001b[0m\u001b[0;34m(\u001b[0m\u001b[0marr\u001b[0m\u001b[0;34m,\u001b[0m \u001b[0midx\u001b[0m\u001b[0;34m,\u001b[0m \u001b[0mkeepdims\u001b[0m\u001b[0;34m=\u001b[0m\u001b[0;32mFalse\u001b[0m\u001b[0;34m)\u001b[0m\u001b[0;34m\u001b[0m\u001b[0;34m\u001b[0m\u001b[0m\n\u001b[0m\u001b[1;32m   3795\u001b[0m   if (arr.ndim > 0 and isinstance(arr.shape[0], int) and\n\u001b[1;32m   3796\u001b[0m       \u001b[0misinstance\u001b[0m\u001b[0;34m(\u001b[0m\u001b[0midx\u001b[0m\u001b[0;34m,\u001b[0m \u001b[0mslice\u001b[0m\u001b[0;34m)\u001b[0m \u001b[0;32mand\u001b[0m\u001b[0;34m\u001b[0m\u001b[0;34m\u001b[0m\u001b[0m\n",
      "\u001b[0;32m/gpfs/fs1/home/a/andyli/vishjay/.virtualenvs/CritPointDet/lib/python3.9/site-packages/jax/_src/lax/slicing.py\u001b[0m in \u001b[0;36mdynamic_index_in_dim\u001b[0;34m(operand, index, axis, keepdims)\u001b[0m\n\u001b[1;32m    703\u001b[0m     \u001b[0;32mreturn\u001b[0m \u001b[0mresult\u001b[0m\u001b[0;34m\u001b[0m\u001b[0;34m\u001b[0m\u001b[0m\n\u001b[1;32m    704\u001b[0m   \u001b[0;32melse\u001b[0m\u001b[0;34m:\u001b[0m\u001b[0;34m\u001b[0m\u001b[0;34m\u001b[0m\u001b[0m\n\u001b[0;32m--> 705\u001b[0;31m     \u001b[0;32mreturn\u001b[0m \u001b[0mlax\u001b[0m\u001b[0;34m.\u001b[0m\u001b[0msqueeze\u001b[0m\u001b[0;34m(\u001b[0m\u001b[0mresult\u001b[0m\u001b[0;34m,\u001b[0m \u001b[0;34m(\u001b[0m\u001b[0maxis\u001b[0m\u001b[0;34m,\u001b[0m\u001b[0;34m)\u001b[0m\u001b[0;34m)\u001b[0m\u001b[0;34m\u001b[0m\u001b[0;34m\u001b[0m\u001b[0m\n\u001b[0m\u001b[1;32m    706\u001b[0m \u001b[0;34m\u001b[0m\u001b[0m\n\u001b[1;32m    707\u001b[0m \u001b[0;34m\u001b[0m\u001b[0m\n",
      "\u001b[0;32m/gpfs/fs1/home/a/andyli/vishjay/.virtualenvs/CritPointDet/lib/python3.9/site-packages/jax/_src/lax/lax.py\u001b[0m in \u001b[0;36msqueeze\u001b[0;34m(array, dimensions)\u001b[0m\n\u001b[1;32m   1299\u001b[0m   \u001b[0;32mif\u001b[0m \u001b[0;32mnot\u001b[0m \u001b[0mdimensions\u001b[0m \u001b[0;32mand\u001b[0m \u001b[0misinstance\u001b[0m\u001b[0;34m(\u001b[0m\u001b[0marray\u001b[0m\u001b[0;34m,\u001b[0m \u001b[0mArray\u001b[0m\u001b[0;34m)\u001b[0m\u001b[0;34m:\u001b[0m\u001b[0;34m\u001b[0m\u001b[0;34m\u001b[0m\u001b[0m\n\u001b[1;32m   1300\u001b[0m     \u001b[0;32mreturn\u001b[0m \u001b[0mtype_cast\u001b[0m\u001b[0;34m(\u001b[0m\u001b[0mArray\u001b[0m\u001b[0;34m,\u001b[0m \u001b[0marray\u001b[0m\u001b[0;34m)\u001b[0m\u001b[0;34m\u001b[0m\u001b[0;34m\u001b[0m\u001b[0m\n\u001b[0;32m-> 1301\u001b[0;31m   \u001b[0;32mreturn\u001b[0m \u001b[0msqueeze_p\u001b[0m\u001b[0;34m.\u001b[0m\u001b[0mbind\u001b[0m\u001b[0;34m(\u001b[0m\u001b[0marray\u001b[0m\u001b[0;34m,\u001b[0m \u001b[0mdimensions\u001b[0m\u001b[0;34m=\u001b[0m\u001b[0mdimensions\u001b[0m\u001b[0;34m)\u001b[0m\u001b[0;34m\u001b[0m\u001b[0;34m\u001b[0m\u001b[0m\n\u001b[0m\u001b[1;32m   1302\u001b[0m \u001b[0;34m\u001b[0m\u001b[0m\n\u001b[1;32m   1303\u001b[0m \u001b[0;32mdef\u001b[0m \u001b[0mexpand_dims\u001b[0m\u001b[0;34m(\u001b[0m\u001b[0marray\u001b[0m\u001b[0;34m:\u001b[0m \u001b[0mArrayLike\u001b[0m\u001b[0;34m,\u001b[0m \u001b[0mdimensions\u001b[0m\u001b[0;34m:\u001b[0m \u001b[0mSequence\u001b[0m\u001b[0;34m[\u001b[0m\u001b[0mint\u001b[0m\u001b[0;34m]\u001b[0m\u001b[0;34m)\u001b[0m \u001b[0;34m->\u001b[0m \u001b[0mArray\u001b[0m\u001b[0;34m:\u001b[0m\u001b[0;34m\u001b[0m\u001b[0;34m\u001b[0m\u001b[0m\n",
      "\u001b[0;32m/gpfs/fs1/home/a/andyli/vishjay/.virtualenvs/CritPointDet/lib/python3.9/site-packages/jax/core.py\u001b[0m in \u001b[0;36mbind\u001b[0;34m(self, *args, **params)\u001b[0m\n\u001b[1;32m    327\u001b[0m     assert (not config.jax_enable_checks or\n\u001b[1;32m    328\u001b[0m             all(isinstance(arg, Tracer) or valid_jaxtype(arg) for arg in args)), args\n\u001b[0;32m--> 329\u001b[0;31m     \u001b[0;32mreturn\u001b[0m \u001b[0mself\u001b[0m\u001b[0;34m.\u001b[0m\u001b[0mbind_with_trace\u001b[0m\u001b[0;34m(\u001b[0m\u001b[0mfind_top_trace\u001b[0m\u001b[0;34m(\u001b[0m\u001b[0margs\u001b[0m\u001b[0;34m)\u001b[0m\u001b[0;34m,\u001b[0m \u001b[0margs\u001b[0m\u001b[0;34m,\u001b[0m \u001b[0mparams\u001b[0m\u001b[0;34m)\u001b[0m\u001b[0;34m\u001b[0m\u001b[0;34m\u001b[0m\u001b[0m\n\u001b[0m\u001b[1;32m    330\u001b[0m \u001b[0;34m\u001b[0m\u001b[0m\n\u001b[1;32m    331\u001b[0m   \u001b[0;32mdef\u001b[0m \u001b[0mbind_with_trace\u001b[0m\u001b[0;34m(\u001b[0m\u001b[0mself\u001b[0m\u001b[0;34m,\u001b[0m \u001b[0mtrace\u001b[0m\u001b[0;34m,\u001b[0m \u001b[0margs\u001b[0m\u001b[0;34m,\u001b[0m \u001b[0mparams\u001b[0m\u001b[0;34m)\u001b[0m\u001b[0;34m:\u001b[0m\u001b[0;34m\u001b[0m\u001b[0;34m\u001b[0m\u001b[0m\n",
      "\u001b[0;32m/gpfs/fs1/home/a/andyli/vishjay/.virtualenvs/CritPointDet/lib/python3.9/site-packages/jax/core.py\u001b[0m in \u001b[0;36mbind_with_trace\u001b[0;34m(self, trace, args, params)\u001b[0m\n\u001b[1;32m    329\u001b[0m     \u001b[0;32mreturn\u001b[0m \u001b[0mself\u001b[0m\u001b[0;34m.\u001b[0m\u001b[0mbind_with_trace\u001b[0m\u001b[0;34m(\u001b[0m\u001b[0mfind_top_trace\u001b[0m\u001b[0;34m(\u001b[0m\u001b[0margs\u001b[0m\u001b[0;34m)\u001b[0m\u001b[0;34m,\u001b[0m \u001b[0margs\u001b[0m\u001b[0;34m,\u001b[0m \u001b[0mparams\u001b[0m\u001b[0;34m)\u001b[0m\u001b[0;34m\u001b[0m\u001b[0;34m\u001b[0m\u001b[0m\n\u001b[1;32m    330\u001b[0m \u001b[0;34m\u001b[0m\u001b[0m\n\u001b[0;32m--> 331\u001b[0;31m   \u001b[0;32mdef\u001b[0m \u001b[0mbind_with_trace\u001b[0m\u001b[0;34m(\u001b[0m\u001b[0mself\u001b[0m\u001b[0;34m,\u001b[0m \u001b[0mtrace\u001b[0m\u001b[0;34m,\u001b[0m \u001b[0margs\u001b[0m\u001b[0;34m,\u001b[0m \u001b[0mparams\u001b[0m\u001b[0;34m)\u001b[0m\u001b[0;34m:\u001b[0m\u001b[0;34m\u001b[0m\u001b[0;34m\u001b[0m\u001b[0m\n\u001b[0m\u001b[1;32m    332\u001b[0m     \u001b[0mout\u001b[0m \u001b[0;34m=\u001b[0m \u001b[0mtrace\u001b[0m\u001b[0;34m.\u001b[0m\u001b[0mprocess_primitive\u001b[0m\u001b[0;34m(\u001b[0m\u001b[0mself\u001b[0m\u001b[0;34m,\u001b[0m \u001b[0mmap\u001b[0m\u001b[0;34m(\u001b[0m\u001b[0mtrace\u001b[0m\u001b[0;34m.\u001b[0m\u001b[0mfull_raise\u001b[0m\u001b[0;34m,\u001b[0m \u001b[0margs\u001b[0m\u001b[0;34m)\u001b[0m\u001b[0;34m,\u001b[0m \u001b[0mparams\u001b[0m\u001b[0;34m)\u001b[0m\u001b[0;34m\u001b[0m\u001b[0;34m\u001b[0m\u001b[0m\n\u001b[1;32m    333\u001b[0m     \u001b[0;32mreturn\u001b[0m \u001b[0mmap\u001b[0m\u001b[0;34m(\u001b[0m\u001b[0mfull_lower\u001b[0m\u001b[0;34m,\u001b[0m \u001b[0mout\u001b[0m\u001b[0;34m)\u001b[0m \u001b[0;32mif\u001b[0m \u001b[0mself\u001b[0m\u001b[0;34m.\u001b[0m\u001b[0mmultiple_results\u001b[0m \u001b[0;32melse\u001b[0m \u001b[0mfull_lower\u001b[0m\u001b[0;34m(\u001b[0m\u001b[0mout\u001b[0m\u001b[0;34m)\u001b[0m\u001b[0;34m\u001b[0m\u001b[0;34m\u001b[0m\u001b[0m\n",
      "\u001b[0;31mKeyboardInterrupt\u001b[0m: "
     ]
    }
   ],
   "source": [
    "dfRes = RunMixDataSet()"
   ]
  },
  {
   "cell_type": "code",
   "execution_count": 36,
   "metadata": {},
   "outputs": [
    {
     "data": {
      "text/plain": [
       "'Current Status:'"
      ]
     },
     "metadata": {},
     "output_type": "display_data"
    },
    {
     "data": {
      "text/plain": [
       "'Mixture 40 Iteration 19'"
      ]
     },
     "metadata": {},
     "output_type": "display_data"
    },
    {
     "data": {
      "text/plain": [
       "'Last Iteration Time: 4.261929035186768'"
      ]
     },
     "metadata": {},
     "output_type": "display_data"
    },
    {
     "data": {
      "text/plain": [
       "[Array(6.897794, dtype=float32),\n",
       " Array(203.8731, dtype=float32),\n",
       " Array(0.07814296, dtype=float32),\n",
       " Array(12.797058, dtype=float32),\n",
       " 20,\n",
       " 294.67952156066895]"
      ]
     },
     "execution_count": 36,
     "metadata": {},
     "output_type": "execute_result"
    }
   ],
   "source": [
    "Fmat, xvec, Pc, itr, rn_time = NewtonRaphson(40)\n",
    "[Pc/10**6, xvec[0], xvec[1]/0.001, 0.001/xvec[1], itr, rn_time]"
   ]
  },
  {
   "cell_type": "code",
   "execution_count": null,
   "metadata": {},
   "outputs": [],
   "source": []
  }
 ],
 "metadata": {
  "kernelspec": {
   "display_name": "Python 3",
   "language": "python",
   "name": "python3"
  },
  "language_info": {
   "codemirror_mode": {
    "name": "ipython",
    "version": 3
   },
   "file_extension": ".py",
   "mimetype": "text/x-python",
   "name": "python",
   "nbconvert_exporter": "python",
   "pygments_lexer": "ipython3",
   "version": "3.9.8"
  }
 },
 "nbformat": 4,
 "nbformat_minor": 5
}
