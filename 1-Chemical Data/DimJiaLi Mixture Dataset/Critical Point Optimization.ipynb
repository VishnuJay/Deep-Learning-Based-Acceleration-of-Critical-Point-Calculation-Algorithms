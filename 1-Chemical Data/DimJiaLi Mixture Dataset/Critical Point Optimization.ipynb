{
 "cells": [
  {
   "cell_type": "code",
   "execution_count": 1,
   "metadata": {},
   "outputs": [],
   "source": [
    "import scipy as sp\n",
    "import matplotlib.pyplot as plt\n",
    "import jax\n",
    "import jax.numpy as jnp\n",
    "import os\n",
    "import pandas as pd\n",
    "from ast import literal_eval\n",
    "import sys\n",
    "import time\n",
    "from IPython.display import clear_output\n",
    "\n",
    "#Redirect print output.\n",
    "f = open('OptFullResults.txt', 'w')\n",
    "sys.stdout = f\n",
    "\n",
    "#Method Based On:\n",
    "#Dimitrakopoulos, P., Jia, W. & Li, C. \n",
    "#An Improved Computational Method for the Calculation of Mixture Liquid–Vapor Critical Points. \n",
    "#Int J Thermophys 35, 865–889 (2014). https://doi.org/10.1007/s10765-014-1680-7"
   ]
  },
  {
   "cell_type": "code",
   "execution_count": 2,
   "metadata": {},
   "outputs": [],
   "source": [
    "def LookUpMix(MxN):\n",
    "    ts = time.time()\n",
    "    #Read from mixture.csv file to get components.\n",
    "    path = os.getcwd()\n",
    "    Mdf = pd.read_csv(path + \"/Mixture Compositions.csv\", index_col = \"Mixture No.\")\n",
    "    mixture = Mdf.iloc[MxN, :]\n",
    "    mxNames = mixture.index[mixture.notnull()]  \n",
    "    \n",
    "    #Assign compositions vlaues for components.\n",
    "    y = mixture[mixture.notnull()].to_numpy()\n",
    "    \n",
    "    \n",
    "    #Define global variables from mixture props.\n",
    "    R = 8.31446 #J/(mol*K)\n",
    "    \n",
    "    #Obtain component critical values from critical properties list.\n",
    "    Cdf = pd.read_csv(path + \"/Chemical Critical Properties.csv\")\n",
    "    Pc = Cdf.loc[Cdf[\"Component\"].isin(mxNames), \"Pc (MPa)\"].to_numpy()*10**6 # Pa\n",
    "    Tc = Cdf.loc[Cdf[\"Component\"].isin(mxNames), \"Tc (K)\"].to_numpy() #K\n",
    "    Vc = Cdf.loc[Cdf[\"Component\"].isin(mxNames), \"Vc (l/mol)\"].to_numpy()*0.001 #m^3\n",
    "    w = Cdf.loc[Cdf[\"Component\"].isin(mxNames), \"w\"].to_numpy()\n",
    "    \n",
    "    #Define mol vector and number of components.\n",
    "    n_tot = 1 #mol\n",
    "    C = len(y)\n",
    "    \n",
    "    #Unpack binaqry interaction coefficients\n",
    "    kdf = pd.read_csv(path + \"/Binary Interactions.csv\", index_col = \"Component\")\n",
    "    k = []\n",
    "    for i in range(C):\n",
    "        klist = kdf.loc[mxNames[i], :]\n",
    "        klist = klist.loc[klist.index.isin(mxNames)]\n",
    "        k.append(klist.to_numpy())\n",
    "    k = jnp.array(k)\n",
    "\n",
    "    EOS = 'SRK'\n",
    "    print(\"Components: \"+str(mxNames.values)+\" At:\"+str(y)+\" Using \"+EOS)\n",
    "    print(\"---------------------------------------------\")\n",
    "    return y, Tc, Pc, w, EOS, C, n_tot, R, Vc, k"
   ]
  },
  {
   "cell_type": "code",
   "execution_count": 3,
   "metadata": {},
   "outputs": [],
   "source": [
    "#nu, a constant dependant on EOS, that affects a.\n",
    "def nu(EOS):\n",
    "    if EOS == 'SRK':\n",
    "        return 0.42748\n",
    "    if EOS == 'PR':\n",
    "        return 0.45724"
   ]
  },
  {
   "cell_type": "code",
   "execution_count": 4,
   "metadata": {},
   "outputs": [],
   "source": [
    "#c, the accentricity polynomial.\n",
    "def c(i, EOS, w):\n",
    "    if EOS == 'SRK':\n",
    "        ci = 0.48\n",
    "        ci += 1.574*w[i]\n",
    "        ci += -0.176*w[i]**2\n",
    "        return ci\n",
    "    if EOS == 'PR':\n",
    "        ci = 0.37464\n",
    "        ci += 1.54226*w[i]\n",
    "        ci += -0.26992*w[i]**2\n",
    "        return ci"
   ]
  },
  {
   "cell_type": "code",
   "execution_count": 5,
   "metadata": {},
   "outputs": [],
   "source": [
    "#ai, the attraction paramater of component i.\n",
    "def ai(i, T, Tc, Pc, w, R, EOS):\n",
    "    ai = (R*Tc[i])**2*nu(EOS)/Pc[i]\n",
    "    ai = ai*(1 + c(i, EOS, w)*(1-(T/Tc[i])**0.5))**2\n",
    "    return ai"
   ]
  },
  {
   "cell_type": "code",
   "execution_count": 6,
   "metadata": {},
   "outputs": [],
   "source": [
    "#aij, the binary attraction paramater of component system i-j.\n",
    "def aijf(T, Tc, Pc, R, w, EOS, C, k):\n",
    "    aij = jnp.zeros([C, C])\n",
    "    for i in range(C):\n",
    "        for j in range(C):\n",
    "            aij = aij.at[i,j].set((ai(i, T, Tc, Pc, w, R, EOS)*ai(j, T, Tc, Pc, w, R, EOS))**0.5*(1-k[i][j]))\n",
    "    return aij"
   ]
  },
  {
   "cell_type": "code",
   "execution_count": 7,
   "metadata": {},
   "outputs": [],
   "source": [
    "#bi, the repulsion paramater of component i.\n",
    "def b(i, Tc, Pc, R, EOS):\n",
    "    if EOS == 'SRK':\n",
    "        bi = 0.08664*R*Tc[i]/Pc[i]\n",
    "        return bi\n",
    "    if EOS == 'PR':\n",
    "        bi = 0.07780*R*Tc[i]/Pc[i]\n",
    "        return bi"
   ]
  },
  {
   "cell_type": "code",
   "execution_count": 8,
   "metadata": {},
   "outputs": [],
   "source": [
    "#D1, a parameter that defines the EOS.\n",
    "def D1(EOS):\n",
    "    if EOS == 'SRK':\n",
    "        u0 = 1\n",
    "        w0 = 0\n",
    "    if EOS == 'PR':\n",
    "        u0 = 2\n",
    "        w0 = -1      \n",
    "    D1 = (u0 + jnp.sqrt(u0**2-4*w0))/2\n",
    "    return D1"
   ]
  },
  {
   "cell_type": "code",
   "execution_count": 9,
   "metadata": {},
   "outputs": [],
   "source": [
    "#D2, a parameter that defines the EOS.\n",
    "def D2(EOS):\n",
    "    if EOS == 'SRK':\n",
    "        u0 = 1\n",
    "        w0 = 0\n",
    "    if EOS == 'PR':\n",
    "        u0 = 2\n",
    "        w0 = -1      \n",
    "    D2 = (u0 - jnp.sqrt(u0**2-4*w0))/2\n",
    "    return D2"
   ]
  },
  {
   "cell_type": "code",
   "execution_count": 10,
   "metadata": {},
   "outputs": [],
   "source": [
    "#a_tot, the weighted sum of binary attraction interactions.\n",
    "def a_tot(y, aij, C):\n",
    "    a_t = 0\n",
    "    for i in range(C):\n",
    "        for j in range(C):\n",
    "            a_t += y[i]*y[j]*aij[i, j]\n",
    "    return a_t"
   ]
  },
  {
   "cell_type": "code",
   "execution_count": 11,
   "metadata": {},
   "outputs": [],
   "source": [
    "#b_tot, the weighted sum of repulsion interactions.\n",
    "def b_tot(y, Tc, Pc, R, EOS, C):\n",
    "    b_t = 0\n",
    "    for i in range(C):\n",
    "        b_t += y[i]*b(i, Tc, Pc, R, EOS)\n",
    "    return b_t"
   ]
  },
  {
   "cell_type": "code",
   "execution_count": 12,
   "metadata": {},
   "outputs": [],
   "source": [
    "#alphak, the relative attraction of all interactions with component k.\n",
    "def alpha(j, y, aij, C):\n",
    "    alpk = 0\n",
    "    for i in range(C):\n",
    "        alpk += y[i]*aij[i,j]\n",
    "    return alpk/a_tot(y, aij, C)"
   ]
  },
  {
   "cell_type": "code",
   "execution_count": 13,
   "metadata": {},
   "outputs": [],
   "source": [
    "#betai, the relative repulsion of component k.\n",
    "def beta(i, y, Tc, Pc, R, EOS, C):\n",
    "    return b(i, Tc, Pc, R, EOS)/b_tot(y, Tc, Pc, R, EOS, C)"
   ]
  },
  {
   "cell_type": "code",
   "execution_count": 14,
   "metadata": {},
   "outputs": [],
   "source": [
    "#K, the ratio of critcal volume of mixture to repulsion parameter.\n",
    "def K(V, Tc, Pc, R, y, EOS, C):\n",
    "    return V/b_tot(y, Tc, Pc, R, EOS, C)"
   ]
  },
  {
   "cell_type": "code",
   "execution_count": 15,
   "metadata": {},
   "outputs": [],
   "source": [
    "#F1-F6 are EOS based factors which are f(D1, D2, K)\n",
    "def F1(Kv, EOS):\n",
    "    return 1/(Kv-1)\n",
    "\n",
    "def F2(Kv, EOS):\n",
    "    F2 = 2/(D1(EOS)-D2(EOS))\n",
    "    F2 *= (D1(EOS)/(Kv+D1(EOS))-D2(EOS)/(Kv+D2(EOS)))\n",
    "    return F2\n",
    "\n",
    "def F3(Kv, EOS):\n",
    "    F3 = 1/(D1(EOS)-D2(EOS))\n",
    "    F3 *= ((D1(EOS)/(Kv+D1(EOS)))**2-(D2(EOS)/(Kv+D2(EOS)))**2)\n",
    "    return F3\n",
    "\n",
    "def F4(Kv, EOS):\n",
    "    F4 = 1/(D1(EOS)-D2(EOS))\n",
    "    F4 *= ((D1(EOS)/(Kv+D1(EOS)))**3-(D2(EOS)/(Kv+D2(EOS)))**3)\n",
    "    return F4\n",
    "\n",
    "def F5(Kv, EOS):\n",
    "    F5 = 2/(D1(EOS)-D2(EOS))\n",
    "    F5 *= jnp.log((Kv+D1(EOS))/(Kv+D2(EOS)))\n",
    "    return F5\n",
    "\n",
    "def F6(Kv, EOS):\n",
    "    F6 = 2/(D1(EOS)-D2(EOS))\n",
    "    F6 *= (D1(EOS)/(Kv+D1(EOS))-D2(EOS)/(Kv+D2(EOS)))-jnp.log((Kv+D1(EOS))/(Kv+D2(EOS)))\n",
    "    return F6"
   ]
  },
  {
   "cell_type": "code",
   "execution_count": 16,
   "metadata": {},
   "outputs": [],
   "source": [
    "def ChemicalPotential(y, T, V, Tc, Pc, Vc, w, EOS, C, n_tot, R, k):\n",
    "    Mij = jnp.zeros([C-1, C-1])\n",
    "    Mrj = jnp.zeros([1, C-1])\n",
    "    \n",
    "    #Calculate variable values\n",
    "    aij = aijf(T, Tc, Pc, R, w, EOS, C, k)\n",
    "    a_totv = a_tot(y, aij, C)\n",
    "    b_totv = b_tot(y, Tc, Pc, R, EOS, C)\n",
    "    \n",
    "    Kv = K(V, Tc, Pc, R, y, EOS, C)\n",
    "    \n",
    "    F1v = F1(Kv, EOS)\n",
    "    F2v = F2(Kv, EOS)\n",
    "    F3v = F3(Kv, EOS)\n",
    "    F4v = F4(Kv, EOS)\n",
    "    F5v = F5(Kv, EOS)\n",
    "    F6v = F6(Kv, EOS)\n",
    "    \n",
    "\n",
    "    for i in range(C-1):\n",
    "        for j in range(C-1):\n",
    "            betaiv = beta(i, y, Tc, Pc, R, EOS, C)\n",
    "            betajv = beta(j, y, Tc, Pc, R, EOS, C)\n",
    "            pA = R*T/n_tot**2\n",
    "            pB = a_totv/(b_totv*n_tot**2)\n",
    "            A1 = k[i][j]/y[i]\n",
    "            A2 = F1v*(betaiv+betajv)\n",
    "            A3 = betaiv*betajv*F1v**2\n",
    "            B1 = betaiv*betajv*F3v\n",
    "            B2 = -F5v*aij[i,j]/a_totv\n",
    "            B3 = F6v*(betaiv*betajv-alpha(i, y, aij, C)*betajv-alpha(j, y, aij, C)*betaiv)\n",
    "            A = pA*(A1+A2+A3)\n",
    "            B = pB*(B1+B2+B3)\n",
    "            Mij = Mij.at[i,j].set(A+B)\n",
    "    \n",
    "    r = C-1\n",
    "    for j in range(C-1):\n",
    "        betarv = beta(r, y, Tc, Pc, R, EOS, C)\n",
    "        betajv = beta(j, y, Tc, Pc, R, EOS, C)\n",
    "        pA = R*T/n_tot**2\n",
    "        pB = a_totv/(b_totv*n_tot**2)\n",
    "        A1 = k[r][j]/y[r]\n",
    "        A2 = F1v*(betarv+betajv)\n",
    "        A3 = betarv*betajv*F1v**2\n",
    "        B1 = betarv*betajv*F3v\n",
    "        B2 = -F5v*aij[r,j]/a_totv\n",
    "        B3 = F6v*(betarv*betajv-alpha(r, y, aij, C)*betajv-alpha(j, y, aij, C)*betarv)\n",
    "        A = pA*(A1+A2+A3)\n",
    "        B = pB*(B1+B2+B3)\n",
    "        Mrj = Mrj.at[j].set(A+B)\n",
    "        \n",
    "    return Mij, Mrj\n"
   ]
  },
  {
   "cell_type": "code",
   "execution_count": 17,
   "metadata": {},
   "outputs": [],
   "source": [
    "from functools import partial\n",
    "@partial(jax.jit, static_argnames=['EOS', 'C', 'n_tot', 'R'])\n",
    "def GeneralizedCubicHessian(y, T, V, Tc, Pc, Vc, w, EOS, C, n_tot, R, k):\n",
    "    H = jnp.zeros([C-1, C-1])\n",
    "    \n",
    "    Mij, Mrj = ChemicalPotential(y, T, V, Tc, Pc, Vc, w, EOS, C, n_tot, R, k)\n",
    "    for i in range(C-1):\n",
    "        for j in range(C-1):\n",
    "            dM = Mij[i, j]-Mrj[0][j]\n",
    "            H = H.at[i,j].set(dM)\n",
    "            \n",
    "    return H"
   ]
  },
  {
   "cell_type": "code",
   "execution_count": 18,
   "metadata": {},
   "outputs": [],
   "source": [
    "def VolumeForm(v, P, T, R, y, Tc, Pc, w, EOS, C, k):\n",
    "    aij = aijf(T, Tc, Pc, R, w, EOS, C, k)\n",
    "    a = a_tot(y, aij, C)\n",
    "    b = b_tot(y, Tc, Pc, R, EOS, C)\n",
    "    d1 = D1(EOS)\n",
    "    d2 = D2(EOS)\n",
    "    f = R*T/(v-b)-a/((v+d1*b)*(v+d2*b))-P\n",
    "    return f"
   ]
  },
  {
   "cell_type": "code",
   "execution_count": 19,
   "metadata": {},
   "outputs": [],
   "source": [
    "def CostFunction(MxN, T, P):\n",
    "    [y, Tc, Pc, w, EOS, C, n_tot, R, Vc, k] = LookUpMix(MxN)\n",
    "    \n",
    "    \n",
    "    v = sp.optimize.fsolve(VolumeForm, n_tot*R*T/P, args = (P, T, R, y, Tc, Pc, w, EOS, C, k))\n",
    "    v = v[0]\n",
    "    \n",
    "    H = GeneralizedCubicHessian(y, T, v, Tc, Pc, Vc, w, EOS, C, n_tot, R, k)\n",
    "    [eig, eigv] = jnp.linalg.eig(H)\n",
    "    u = jnp.real(eigv[jnp.where(eig == min(eig))])\n",
    "    u = u/jnp.linalg.norm(u)\n",
    "    u = u.transpose()\n",
    "    \n",
    "    Q1 = jnp.dot(jnp.dot(H, u).transpose(), u)\n",
    "    dH = jax.jacfwd(GeneralizedCubicHessian)\n",
    "    dHMat = dH(y, T, v, Tc, Pc, Vc, w, EOS, C, n_tot, R, k)[:,:,:-1]\n",
    "    Q2 = jnp.dot(dHMat, u)\n",
    "    Q2 = jnp.dot(Q2.transpose(), u)\n",
    "    Q2 = jnp.dot(Q2[0].transpose(), u)\n",
    "    \n",
    "    return Q1[0][0]**2+Q2[0][0]**2"
   ]
  },
  {
   "cell_type": "code",
   "execution_count": 23,
   "metadata": {},
   "outputs": [
    {
     "data": {
      "text/plain": [
       "0.2838430404663086"
      ]
     },
     "metadata": {},
     "output_type": "display_data"
    }
   ],
   "source": [
    "T = 450\n",
    "P = 6.6*10**6\n",
    "ts = time.time()\n",
    "CostFunction(7, T, P)\n",
    "tf = time.time()\n",
    "display(tf-ts)"
   ]
  },
  {
   "cell_type": "code",
   "execution_count": null,
   "metadata": {},
   "outputs": [],
   "source": []
  }
 ],
 "metadata": {
  "kernelspec": {
   "display_name": "CritPointDet",
   "language": "python",
   "name": "critpointdet"
  },
  "language_info": {
   "codemirror_mode": {
    "name": "ipython",
    "version": 3
   },
   "file_extension": ".py",
   "mimetype": "text/x-python",
   "name": "python",
   "nbconvert_exporter": "python",
   "pygments_lexer": "ipython3",
   "version": "3.9.8"
  }
 },
 "nbformat": 4,
 "nbformat_minor": 5
}
