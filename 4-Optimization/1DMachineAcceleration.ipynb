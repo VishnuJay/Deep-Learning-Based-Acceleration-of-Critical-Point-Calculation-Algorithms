{
 "cells": [
  {
   "cell_type": "code",
   "execution_count": 1,
   "metadata": {},
   "outputs": [],
   "source": [
    "import jax.numpy as jnp\n",
    "import jax\n",
    "import numpy as np\n",
    "import pandas as pd\n",
    "import matplotlib.pyplot as plt\n",
    "import KeyFunctions as me\n",
    "import ObjFunc as of\n",
    "import scipy as sp\n",
    "import CritPointMR as mr\n",
    "import torch as pt\n",
    "from time import time as tmr"
   ]
  },
  {
   "cell_type": "code",
   "execution_count": 44,
   "metadata": {},
   "outputs": [
    {
     "data": {
      "text/plain": [
       "array([304.30215925])"
      ]
     },
     "metadata": {},
     "output_type": "display_data"
    },
    {
     "data": {
      "text/plain": [
       "633800391.7813118"
      ]
     },
     "metadata": {},
     "output_type": "display_data"
    },
    {
     "data": {
      "text/plain": [
       "array([304.30215925])"
      ]
     },
     "metadata": {},
     "output_type": "display_data"
    },
    {
     "data": {
      "text/plain": [
       "633800391.7813118"
      ]
     },
     "metadata": {},
     "output_type": "display_data"
    },
    {
     "name": "stderr",
     "output_type": "stream",
     "text": [
      "/tmp/ipykernel_194208/1536932393.py:57: RuntimeWarning: divide by zero encountered in divide\n",
      "  P = T[0]-T_minus*((P_plus-P_minus)/(T_plus-T_minus))+P_minus\n"
     ]
    },
    {
     "data": {
      "text/plain": [
       "array([269.5679789 , 269.86900401, 270.17002911, 270.47105421,\n",
       "       270.77207931, 271.07310441, 271.37412952, 271.67515462,\n",
       "       271.97617972, 272.27720482, 272.57822992, 272.87925503,\n",
       "       273.18028013, 273.48130523, 273.78233033, 274.08335543,\n",
       "       274.38438054, 274.68540564, 274.98643074, 275.28745584,\n",
       "       275.58848094, 275.88950605, 276.19053115, 276.49155625,\n",
       "       276.79258135, 277.09360646, 277.39463156, 277.69565666,\n",
       "       277.99668176, 278.29770686, 278.59873197, 278.89975707,\n",
       "       279.20078217, 279.50180727, 279.80283237, 280.10385748,\n",
       "       280.40488258, 280.70590768, 281.00693278, 281.30795788,\n",
       "       281.60898299, 281.91000809, 282.21103319, 282.51205829,\n",
       "       282.81308339, 283.1141085 , 283.4151336 , 283.7161587 ,\n",
       "       284.0171838 , 284.3182089 , 284.61923401, 284.92025911,\n",
       "       285.22128421, 285.52230931, 285.82333442, 286.12435952,\n",
       "       286.42538462, 286.72640972, 287.02743482, 287.32845993,\n",
       "       287.62948503, 287.93051013, 288.23153523, 288.53256033,\n",
       "       288.83358544, 289.13461054, 289.43563564, 289.73666074,\n",
       "       290.03768584, 290.33871095, 290.63973605, 290.94076115,\n",
       "       291.24178625, 291.54281135, 291.84383646, 292.14486156,\n",
       "       292.44588666, 292.74691176, 293.04793687, 293.34896197,\n",
       "       293.64998707, 293.95101217, 294.25203727, 294.55306238,\n",
       "       294.85408748, 295.15511258, 295.45613768, 295.75716278,\n",
       "       296.05818789, 296.35921299, 296.66023809, 296.96126319,\n",
       "       297.26228829, 297.5633134 , 297.8643385 , 298.1653636 ,\n",
       "       298.4663887 , 298.7674138 , 299.06843891, 299.36946401,\n",
       "       299.67048911, 299.97151421, 300.27253931, 300.57356442,\n",
       "       300.87458952, 301.17561462, 301.47663972, 301.77766483,\n",
       "       302.07868993, 302.37971503, 302.68074013, 302.98176523,\n",
       "       303.28279034, 303.58381544, 303.88484054, 304.18586564,\n",
       "       304.48689074, 304.78791585, 305.08894095, 305.38996605,\n",
       "       305.69099115, 305.99201625, 306.29304136, 306.59406646,\n",
       "       306.89509156, 307.19611666, 307.49714176, 307.79816687,\n",
       "       308.09919197, 308.40021707, 308.70124217, 309.00226727,\n",
       "       309.30329238, 309.60431748, 309.90534258, 310.20636768,\n",
       "       310.50739279, 310.80841789, 311.10944299, 311.41046809,\n",
       "       311.71149319, 312.0125183 , 312.3135434 , 312.6145685 ,\n",
       "       312.9155936 , 313.2166187 , 313.51764381, 313.81866891,\n",
       "       314.11969401, 314.42071911, 314.72174421, 315.02276932,\n",
       "       315.32379442, 315.62481952, 315.92584462, 316.22686972,\n",
       "       316.52789483, 316.82891993, 317.12994503, 317.43097013,\n",
       "       317.73199523, 318.03302034, 318.33404544, 318.63507054,\n",
       "       318.93609564, 319.23712075, 319.53814585, 319.83917095,\n",
       "       320.14019605, 320.44122115, 320.74224626, 321.04327136,\n",
       "       321.34429646, 321.64532156, 321.94634666, 322.24737177,\n",
       "       322.54839687, 322.84942197, 323.15044707, 323.45147217,\n",
       "       323.75249728, 324.05352238, 324.35454748, 324.65557258,\n",
       "       324.95659768, 325.25762279, 325.55864789, 325.85967299,\n",
       "       326.16069809, 326.46172319, 326.7627483 , 327.0637734 ,\n",
       "       327.3647985 , 327.6658236 , 327.96684871, 328.26787381,\n",
       "       328.56889891, 328.86992401, 329.17094911, 329.47197422])"
      ]
     },
     "metadata": {},
     "output_type": "display_data"
    },
    {
     "data": {
      "text/plain": [
       "array([1.98463518e+09, 2.00393282e+09, 2.02407743e+09, 2.04512290e+09,\n",
       "       2.06712716e+09, 2.09015256e+09, 2.11426625e+09, 2.13954063e+09,\n",
       "       2.16605380e+09, 2.19389011e+09, 2.22314070e+09, 2.25390423e+09,\n",
       "       2.28628751e+09, 2.32040631e+09, 2.35638630e+09, 2.39436397e+09,\n",
       "       2.43448775e+09, 2.47691923e+09, 2.52183454e+09, 2.56942586e+09,\n",
       "       2.61990316e+09, 2.67349612e+09, 2.73045631e+09, 2.79105963e+09,\n",
       "       2.85560909e+09, 2.92443794e+09, 2.99791320e+09, 3.07643971e+09,\n",
       "       3.16046472e+09, 3.25048310e+09, 3.34704333e+09, 3.45075437e+09,\n",
       "       3.56229346e+09, 3.68241523e+09, 3.81196210e+09, 3.95187634e+09,\n",
       "       4.10321408e+09, 4.26716154e+09, 4.44505403e+09, 4.63839808e+09,\n",
       "       4.84889748e+09, 5.07848385e+09, 5.32935278e+09, 5.60400658e+09,\n",
       "       5.90530516e+09, 6.23652673e+09, 6.60144045e+09, 7.00439391e+09,\n",
       "       7.45041870e+09, 7.94535859e+09, 8.49602569e+09, 9.11039180e+09,\n",
       "       9.79782406e+09, 1.05693765e+10, 1.14381536e+10, 1.24197645e+10,\n",
       "       1.35328976e+10, 1.48000475e+10, 1.62484464e+10, 1.79112625e+10,\n",
       "       1.98291567e+10, 2.20523214e+10, 2.46431759e+10, 2.76799646e+10,\n",
       "       3.12616119e+10, 3.55143477e+10, 4.06008609e+10, 4.67331151e+10,\n",
       "       5.41905535e+10, 6.33463687e+10, 7.47060706e+10, 8.89651934e+10,\n",
       "       1.07097465e+11, 1.30492690e+11, 1.61178041e+11, 2.02183738e+11,\n",
       "       2.58167649e+11, 3.36523195e+11, 4.49432148e+11, 6.17866856e+11,\n",
       "       8.79878016e+11, 1.30904889e+12, 2.05942159e+12, 3.48790562e+12,\n",
       "       6.54069097e+12, 1.42462469e+13, 3.94928806e+13, 1.71955186e+14,\n",
       "       2.31634964e+15, 1.05185049e+17, 7.91285051e+14, 7.69041609e+13,\n",
       "       1.86382925e+13, 6.73620558e+12, 3.04696533e+12, 1.59086417e+12,\n",
       "       9.17716997e+11, 5.69739517e+11, 3.74242735e+11, 2.57100116e+11,\n",
       "       1.83206525e+11, 1.34597985e+11, 1.01487404e+11, 7.82590943e+10,\n",
       "       6.15473957e+10, 4.92588047e+10, 4.00486776e+10, 3.30288555e+10,\n",
       "       2.75980719e+10, 2.33402942e+10, 1.99619889e+10, 1.72523908e+10,\n",
       "       1.50577488e+10, 1.32642789e+10, 1.17866634e+10, 1.05601558e+10,\n",
       "       9.53507565e+09, 8.67291237e+09, 7.94353130e+09, 7.32314482e+09,\n",
       "       6.79282207e+09, 6.33738256e+09, 5.94456647e+09, 5.60440661e+09,\n",
       "       5.30874899e+09, 5.05088360e+09, 4.82525806e+09, 4.62725384e+09,\n",
       "       4.45301013e+09, 4.29928441e+09, 4.16334129e+09, 4.04286350e+09,\n",
       "       3.93588002e+09, 3.84070802e+09, 3.75590542e+09, 3.68023218e+09,\n",
       "       3.61261847e+09, 3.55213836e+09, 3.49798803e+09, 3.44946764e+09,\n",
       "       3.40596619e+09, 3.36694883e+09, 3.33194611e+09, 3.30054503e+09,\n",
       "       3.27238137e+09, 3.24713317e+09, 3.22451525e+09, 3.20427443e+09,\n",
       "       3.18618549e+09, 3.17004770e+09, 3.15568183e+09, 3.14292751e+09,\n",
       "       3.13164103e+09, 3.12169337e+09, 3.11296851e+09, 3.10536196e+09,\n",
       "       3.09877944e+09, 3.09313581e+09, 3.08835402e+09, 3.08436425e+09,\n",
       "       3.08110317e+09, 3.07851324e+09, 3.07654213e+09, 3.07514216e+09,\n",
       "       3.07426987e+09, 3.07388557e+09, 3.07395298e+09, 3.07443891e+09,\n",
       "       3.07531295e+09, 3.07654724e+09, 3.07811616e+09, 3.07999621e+09,\n",
       "       3.08216576e+09, 3.08460489e+09, 3.08729527e+09, 3.09021995e+09,\n",
       "       3.09336333e+09, 3.09671098e+09, 3.10024954e+09, 3.10396668e+09,\n",
       "       3.10785095e+09, 3.11189176e+09, 3.11607927e+09, 3.12040436e+09,\n",
       "       3.12485855e+09, 3.12943398e+09, 3.13412329e+09, 3.13891969e+09,\n",
       "       3.14381681e+09, 3.14880874e+09, 3.15388995e+09, 3.15905530e+09,\n",
       "       3.16429997e+09, 3.16961947e+09, 3.17500961e+09, 3.18046646e+09,\n",
       "       3.18598635e+09, 3.19156583e+09, 3.19720168e+09, 3.20289090e+09])"
      ]
     },
     "metadata": {},
     "output_type": "display_data"
    }
   ],
   "source": [
    "#def OPTAccel(MxN, DataSet, EOS):\n",
    "import torch as pt\n",
    "from time import time as tmr\n",
    "import KeyFunctions as me\n",
    "import ObjFunc as of\n",
    "import scipy as sp\n",
    "import CritPointMR as mr\n",
    "import jax.numpy as jnp\n",
    "import jax\n",
    "import numpy as np\n",
    "import pandas as pd\n",
    "\n",
    "DataSet = 'DimJiaLi Unique'\n",
    "EOS = 'PR'\n",
    "MxNmax = 2\n",
    "\n",
    "jax.config.update(\"jax_enable_x64\", True)\n",
    "[y, Tc, Pc, w, C, R, Vc, k, mxNames] = me.LookUpMix(MxN, DataSet, EOS)\n",
    "\n",
    "default_guess = (jnp.dot(y, Tc).item(), jnp.dot(y, Pc).item())\n",
    "default_bound = [(default_guess[0], default_guess[0]+100), (default_guess[1], default_guess[1]*2.5)]\n",
    "\n",
    "t_0 = tmr()\n",
    "df_minima = sp.optimize.differential_evolution(of.CostFunction, bounds = default_bound, args = (y, Tc, Pc, w, k, R, C, EOS), mutation = 0.95, atol = 1e-14, init = 'sobol')\n",
    "t_df = tmr()-t_0\n",
    "\n",
    "path = me.GetRootPath()\n",
    "path = path+'/3-RootFinding/TrainedModels/MX_'+str(MxN)+'.trh'\n",
    "trainednn = mr.CompNN(C).to(pt.device(\"cpu\"))\n",
    "trainednn.load_state_dict(pt.load(path))\n",
    "trainednn.eval()\n",
    "\n",
    "ypred = trainednn(pt.tensor(y)).detach().numpy()\n",
    "PcN = np.dot(np.ones(C)*1/C, Pc)\n",
    "TcN = np.dot(np.ones(C)*1/C, Tc)\n",
    "ML_guess = np.multiply(ypred, np.array([TcN, PcN]))\n",
    "P_plus = ML_guess[1]*1.1\n",
    "P_minus = ML_guess[1]*0.9\n",
    "\n",
    "ML_bound = [(ML_guess[0]*.90, ML_guess[0]*1.1), (ML_guess[1]*0.90, ML_guess[1]*1.1)]\n",
    "\n",
    "t_0 = tmr()\n",
    "def PlusFunc(T, y, Tc, Pc, w, k, R, C, EOS):\n",
    "    TP = np.array([T[0], P_plus])\n",
    "    return of.CostFunction(TP, y, Tc, Pc, w, k, R, C, EOS)\n",
    "\n",
    "T_plus, f, _, _ = sp.optimize.brute(PlusFunc, ranges = [ML_bound[0]], args = (y, Tc, Pc, w, k, R, C, EOS), full_output=True,)\n",
    "display(T_plus, f)\n",
    "\n",
    "def MinusFunc(T, y, Tc, Pc, w, k, R, C, EOS):\n",
    "    TP = np.array([T[0], P_minus])\n",
    "    return of.CostFunction(TP, y, Tc, Pc, w, k, R, C, EOS)\n",
    "T_minus, f, _, _ = sp.optimize.brute(PlusFunc, ranges = [ML_bound[0]], args = (y, Tc, Pc, w, k, R, C, EOS), full_output=True,)\n",
    "display(T_minus, f)\n",
    "\n",
    "def ConstFunc(T, y, Tc, Pc, w, k, R, C, EOS):\n",
    "    P = T[0]-T_minus*((P_plus-P_minus)/(T_plus-T_minus))+P_minus\n",
    "    TP = np.array([T[0], P_minus])\n",
    "    return of.CostFunction(TP, y, Tc, Pc, w, k, R, C, EOS)\n",
    "bt_x, bt_fval, gr, grout = sp.optimize.brute(ConstFunc, ranges = [ML_bound[0]] ,full_output=True, Ns= 200, args = (y, Tc, Pc, w, k, R, C, EOS), finish=sp.optimize.fmin)\n",
    "\n",
    "display(gr)\n",
    "display(grout)\n",
    "\n",
    "US_conv = df_minima.fun < 1\n",
    "S_conv = bt_fval < 1\n",
    "\n",
    "t_frac = (t_df-t_br)/t_df\n",
    "itr_frac = (df_minima.nfev-400)/df_minima.nfev\n",
    "\n",
    "    \n",
    "  #  return US_conv, S_conv, t_frac, itr_frac"
   ]
  },
  {
   "cell_type": "code",
   "execution_count": 37,
   "metadata": {},
   "outputs": [
    {
     "name": "stderr",
     "output_type": "stream",
     "text": [
      "/tmp/ipykernel_194208/1220816749.py:1: RuntimeWarning: divide by zero encountered in divide\n",
      "  300.87458952-T_minus*((P_plus-P_minus)/(T_plus-T_minus))+P_minus\n"
     ]
    },
    {
     "data": {
      "text/plain": [
       "array([-inf])"
      ]
     },
     "execution_count": 37,
     "metadata": {},
     "output_type": "execute_result"
    }
   ],
   "source": [
    "300.87458952-T_minus*((P_plus-P_minus)/(T_plus-T_minus))+P_minus"
   ]
  },
  {
   "cell_type": "code",
   "execution_count": 53,
   "metadata": {},
   "outputs": [
    {
     "data": {
      "text/plain": [
       "array([304.30215925])"
      ]
     },
     "execution_count": 53,
     "metadata": {},
     "output_type": "execute_result"
    }
   ],
   "source": [
    "T_minus"
   ]
  },
  {
   "cell_type": "code",
   "execution_count": null,
   "metadata": {},
   "outputs": [],
   "source": [
    "import pandas as pd\n",
    "DataSet = 'DimJiaLi Unique'\n",
    "EOS = 'PR'\n",
    "MxNmax = 2\n",
    "df = pd.DataFrame(index = range(MxNmax), columns = ['Unseeded Convergence', 'Seeded Convergence', 'Iteration Reduction', 'Time Reduction'])\n",
    "for MxN in range(MxNmax):\n",
    "    US_conv, S_conv, t_frac, itr_frac = OPTAccel(MxN, DataSet, EOS)\n",
    "    df.iloc[MxN, :] = [US_conv, S_conv, np.round(t_frac*100, 3), np.round(itr_frac*100, 3)]\n",
    "    df.to_csv('M2CompAccel.csv')\n",
    "    "
   ]
  },
  {
   "cell_type": "markdown",
   "metadata": {},
   "source": [
    "from time import time as t\n",
    "t0= t()\n",
    "[y, Tc, Pc, w, C, R, Vc, k, mxNames] = me.LookUpMix(MxN, DataSet, EOS)\n",
    "TP_guess = [4.41044394e+02, 6.25409061e+06]\n",
    "def ModCostFunc(T, P, y, Tc, Pc, w, k, R, C, EOS):\n",
    "    TP = np.array([T[0], P])\n",
    "    F = of.CostFunction(TP, y, Tc, Pc, w, k, R, C, EOS)\n",
    "    return F\n",
    "\n",
    "P_max = TP_guess[1]\n",
    "P_min = TP_guess[1]*0.90\n",
    "T_max = sp.optimize.brute(ModCostFunc, [(418.9921740807772, 463.0966134577012)], args = (P_max, y, Tc, Pc, w, k, R, C, EOS), Ns= 5)\n",
    "T_min =  sp.optimize.brute(ModCostFunc, [(418.9921740807772, 463.0966134577012)], args = (P_min, y, Tc, Pc, w, k, R, C, EOS), Ns= 5)\n",
    "\n",
    "def ModCostFunc(TP, y, Tc, Pc, w, k, R, C, EOS):\n",
    "    TP[0] = (P_max-P_min)/(T_max-T_min)*(TP[0]-T_max)+P_max\n",
    "    F = of.CostFunction(TP, y, Tc, Pc, w, k, R, C, EOS)\n",
    "    return F\n",
    "\n",
    "bt_x, bt_fval,_,_ = sp.optimize.brute(ModCostFunc, ranges = [(418.9921740807772, 463.0966134577012),\n",
    " (5941386.081873446, 6566795.143123283)], full_output=True, args = (y, Tc, Pc, w, k, R, C, EOS), finish=sp.optimize.fmin, Ns= 5)\n",
    "t_1 =t()-t0\n",
    "display(t_1)\n",
    "display(bt_fval)"
   ]
  },
  {
   "cell_type": "code",
   "execution_count": 4,
   "metadata": {},
   "outputs": [
    {
     "data": {
      "text/plain": [
       "0.902835714005123"
      ]
     },
     "execution_count": 4,
     "metadata": {},
     "output_type": "execute_result"
    }
   ],
   "source": [
    "t_frac"
   ]
  },
  {
   "cell_type": "code",
   "execution_count": null,
   "metadata": {},
   "outputs": [],
   "source": []
  }
 ],
 "metadata": {
  "kernelspec": {
   "display_name": "CritPointDet",
   "language": "python",
   "name": "critpointdet"
  },
  "language_info": {
   "codemirror_mode": {
    "name": "ipython",
    "version": 3
   },
   "file_extension": ".py",
   "mimetype": "text/x-python",
   "name": "python",
   "nbconvert_exporter": "python",
   "pygments_lexer": "ipython3",
   "version": "3.9.8"
  }
 },
 "nbformat": 4,
 "nbformat_minor": 4
}
