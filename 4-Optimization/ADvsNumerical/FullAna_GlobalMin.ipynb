{
 "cells": [
  {
   "cell_type": "code",
   "execution_count": 1,
   "metadata": {},
   "outputs": [],
   "source": [
    "#nu, a constant dependant on EOS, that affects a.\n",
    "def nu_(EOS):\n",
    "    if EOS == 'SRK':\n",
    "        O1 = 0.42748\n",
    "        O2 = 0.08664\n",
    "        return [O1, O2]\n",
    "    if EOS == 'PR':\n",
    "        O1 = 0.45724\n",
    "        O2 = 0.07780\n",
    "        return [O1, O2] "
   ]
  },
  {
   "cell_type": "code",
   "execution_count": 2,
   "metadata": {},
   "outputs": [],
   "source": [
    "#D1, a parameter that defines the EOS.\n",
    "def d_1(EOS):\n",
    "    import jax.numpy as jnp\n",
    "    if EOS == 'SRK':\n",
    "        u0 = 1\n",
    "        w0 = 0\n",
    "    if EOS == 'PR':\n",
    "        u0 = 2\n",
    "        w0 = -1      \n",
    "    D1 = (u0 + jnp.sqrt(u0**2-4*w0))/2\n",
    "    return D1\n",
    "\n",
    "#D2, a parameter that defines the EOS.\n",
    "def d_2(EOS):\n",
    "    import jax.numpy as jnp  \n",
    "    if EOS == 'SRK':\n",
    "        u0 = 1\n",
    "        w0 = 0\n",
    "    if EOS == 'PR':\n",
    "        u0 = 2\n",
    "        w0 = -1      \n",
    "    D2 = (u0 - jnp.sqrt(u0**2-4*w0))/2\n",
    "    return D2\n",
    "\n",
    "def d_3(D1, D2):\n",
    "    return D1+D2\n",
    "def d_4(D1, D2):\n",
    "    return(D1*D2)"
   ]
  },
  {
   "cell_type": "code",
   "execution_count": 3,
   "metadata": {},
   "outputs": [],
   "source": [
    "#m, the accentricity polynomial.\n",
    "def m_(w, C, EOS):\n",
    "    import jax.numpy as jnp\n",
    "    \n",
    "    m = jnp.zeros([C])\n",
    "    if EOS == 'SRK':\n",
    "        m = m.at[:].set(0.48+1.574*w-0.176*w**2)\n",
    "        return m\n",
    "    if EOS == 'PR':\n",
    "        m = m.at[:].set(0.37464+1.54226*w-0.26992*w**2)\n",
    "        return m"
   ]
  },
  {
   "cell_type": "code",
   "execution_count": 4,
   "metadata": {},
   "outputs": [],
   "source": [
    "#ai, the attraction paramater of each component i.\n",
    "def a_i(T, M, NU, Tc, Pc, R, C):\n",
    "    import jax.numpy as jnp\n",
    "    ai = jnp.zeros([C])\n",
    "    for i in range(C):\n",
    "        ai = ai.at[i].set((R*Tc[i])**2*NU[0]/Pc[i]*(1 + M[i]*(1-(T/Tc[i])**0.5))**2)\n",
    "    return ai"
   ]
  },
  {
   "cell_type": "code",
   "execution_count": 5,
   "metadata": {},
   "outputs": [],
   "source": [
    "#aij, the binary attraction paramater of component system i-j.\n",
    "def a_ij(ai, C, k):\n",
    "    import jax.numpy as jnp\n",
    "    aij = jnp.zeros([C, C])\n",
    "    for i in range(C):\n",
    "        for j in range(C):\n",
    "            aij = aij.at[i,j].set((ai[i]*ai[j])**0.5*(1-k[i][j]))\n",
    "    return aij"
   ]
  },
  {
   "cell_type": "code",
   "execution_count": 6,
   "metadata": {},
   "outputs": [],
   "source": [
    "#bi, the repulsion paramater of each component i.\n",
    "def b_i(NU, Tc, Pc, R, C):\n",
    "    import jax.numpy as jnp\n",
    "    bi = jnp.zeros([C])\n",
    "    for i in range(C):\n",
    "        bi = bi.at[i].set(NU[1]*R*Tc[i]/Pc[i])\n",
    "    return bi"
   ]
  },
  {
   "cell_type": "code",
   "execution_count": 7,
   "metadata": {},
   "outputs": [],
   "source": [
    "#a_tot, the weighted sum of binary attraction interactions.\n",
    "def a_t(y, aij, C):\n",
    "    import jax.numpy as jnp\n",
    "    import jax\n",
    "    a = jnp.array(0)\n",
    "    \n",
    "    yn = jnp.append(y[:-1], (1-jnp.sum(y[:-1])))\n",
    "    \n",
    "    r = C-1\n",
    "    for i in range(C):\n",
    "        for j in range(C):\n",
    "            a += jnp.multiply(jnp.multiply(yn[i],aij[i,j]), yn[j])\n",
    "    return a"
   ]
  },
  {
   "cell_type": "code",
   "execution_count": 8,
   "metadata": {},
   "outputs": [],
   "source": [
    "#b_tot, the weighted sum of repulsion interactions.\n",
    "def b_t(y, bi, C):\n",
    "    import jax.numpy as jnp\n",
    "    import jax\n",
    "    bt = jnp.array(0)\n",
    "    r = C-1\n",
    "    for i in range(C):\n",
    "        bt += y[i]*(bi[i]-bi[r])\n",
    "    bt += bi[r]\n",
    "    return bt"
   ]
  },
  {
   "cell_type": "code",
   "execution_count": 9,
   "metadata": {},
   "outputs": [],
   "source": [
    "def A_dim(a, P, R, T):\n",
    "    import jax.numpy as jnp\n",
    "    return a*P/(R*T)**2"
   ]
  },
  {
   "cell_type": "code",
   "execution_count": 10,
   "metadata": {},
   "outputs": [],
   "source": [
    "def ALPHA_(y, aij, a, C):\n",
    "    import jax.numpy as jnp\n",
    "    import jax\n",
    "    \n",
    "    yn = jnp.append(y[:-1], (1-jnp.sum(y[:-1])))\n",
    "    ALPHA = jnp.zeros(C)\n",
    "    for i in range(C):\n",
    "        for k in range(C):\n",
    "                ALPHA  = ALPHA.at[i].add(yn[k]*aij[k, i])\n",
    "    \n",
    "    ALPHA = ALPHA.at[:].set(ALPHA[:]/a)\n",
    "    \n",
    "    return ALPHA"
   ]
  },
  {
   "cell_type": "code",
   "execution_count": 11,
   "metadata": {},
   "outputs": [],
   "source": [
    "def BETA_(bi, b, C):\n",
    "    BETA = bi/b\n",
    "    return BETA"
   ]
  },
  {
   "cell_type": "code",
   "execution_count": 12,
   "metadata": {},
   "outputs": [],
   "source": [
    "def B_dim(b, P, R, T):\n",
    "    import jax.numpy as jnp\n",
    "    return b*P/(R*T)"
   ]
  },
  {
   "cell_type": "code",
   "execution_count": 13,
   "metadata": {},
   "outputs": [],
   "source": [
    "def CompFact(A, B, EOS):\n",
    "    import jax.numpy as jnp\n",
    "    import jax\n",
    "    #EOS cubic compressbility coefficients\n",
    "    D1 = d_1(EOS)\n",
    "    D2 = d_2(EOS)\n",
    "    D3 = d_3(D1, D2)\n",
    "    D4 = d_4(D1, D2)\n",
    "    \n",
    "    c1 = jnp.array(1)\n",
    "    c2 = jnp.array((D3-1)*B-1)\n",
    "    c3 = jnp.array(A-D3*B-(D3-D4)*B**2)\n",
    "    c4 = jnp.array(-D4*(B**3+B**2)-A*B)\n",
    "    \n",
    "    \n",
    "    #Cubic discriminant\n",
    "    disc = 18*c1*c2*c3*c4 - 4*c2**3*c4 + c2**2*c3**2 - 4*c1*c3**3 - 27*c1**2*c4**2\n",
    "    def threeroot(c1, c2, c3, c4, disc):\n",
    "        #Three Real Roots\n",
    "        def three_distinct(c1, c2, c3, c4):\n",
    "            p1 = (3*c1*c3 - c2**2)/(3*c1**2)\n",
    "            p2 = (2*c2**3 - 9*c1*c2*c3 + 27*c1**2*c4)/(27*c1**3)\n",
    "            arg = 3*p2/(2*p1)*jnp.sqrt(-3/p1)\n",
    "            arg = jax.lax.complex(arg, jnp.array(0.0))\n",
    "\n",
    "            Z1 = 2*(-p1/3)**(1/2)*jnp.cos(jnp.arccos(arg)/3)\n",
    "            Z2 = 2*(-p1/3)**(1/2)*jnp.cos(jnp.arccos(arg)/3-2*jnp.pi/3)\n",
    "            Z3 = 2*(-p1/3)**(1/2)*jnp.cos(jnp.arccos(arg)/3-4*jnp.pi/3)\n",
    "\n",
    "            Z1 = jnp.real(Z1 - c2/(3*c1))\n",
    "            Z2 = jnp.real(Z2 - c2/(3*c1))\n",
    "            Z3 = jnp.real(Z3 - c2/(3*c1))\n",
    "            return jnp.maximum(jnp.maximum(Z1, Z2), Z3)\n",
    "        \n",
    "        def repeated_root(c1, c2, c3, c4): \n",
    "            def one_repeated(c1, c2, c3, c4):\n",
    "                #Double multiplicity root\n",
    "                Z1 = (4*c1*c2*c3-9*c1**2*c4-c2**3)/(c1*(c2**2-3*c1*c3))\n",
    "                Z2 = (9*c1*c4-c2*c3)/(2*(c2**2-3*c1*c3))\n",
    "                return jnp.maximum(Z1, Z2)\n",
    "            def two_repeated(c1, c2, c3, c4):\n",
    "                #Triple multiplicity root\n",
    "                Z3 = -c2/3*c1\n",
    "                return Z3\n",
    "            return jax.lax.cond(c2**2 == 3*c1*c3, two_repeated, one_repeated, c1, c2, c3, c4)\n",
    "    \n",
    "        return jax.lax.cond(disc != 0, three_distinct, repeated_root, c1, c2, c3, c4)\n",
    "    \n",
    "    def oneroot(c1, c2, c3, c4, disc):\n",
    "        #One Real Root, Two Complex Conjugates\n",
    "        \n",
    "        d0 = c2**2 - 3*c1*c3\n",
    "        d1 = 2*c2**3 - 9*c1*c2*c3 + 27*c1**2*c4\n",
    "        \n",
    "        C0 = jnp.cbrt((d1 + jnp.sqrt(d1**2-4*d0**3))/2)\n",
    "        #Select other root if needed\n",
    "        def proot(d1, d0):\n",
    "            C = jnp.cbrt((d1 + jnp.sqrt(d1**2-4*d0**3))/2)\n",
    "            return C\n",
    "        def nroot(d1, d0):\n",
    "            C = jnp.cbrt((d1 - jnp.sqrt(d1**2-4*d0**3))/2)\n",
    "            return C\n",
    "        \n",
    "        C = jax.lax.cond(C0 == 0, nroot, proot, d1, d0)\n",
    "\n",
    "        Z1 = -1/(3*c1)*(c2+C+d0/C)\n",
    "        \n",
    "        return Z1\n",
    "    \n",
    "    return jax.lax.cond(disc >= 0, threeroot, oneroot, c1, c2, c3, c4, disc)"
   ]
  },
  {
   "cell_type": "code",
   "execution_count": 14,
   "metadata": {},
   "outputs": [],
   "source": [
    "def EOS_Params(y, T, P, Tc, Pc, w, k, R, C, EOS):\n",
    "    nu = nu_(EOS)\n",
    "    m = m_(w, C, EOS)\n",
    "    d1 = d_1(EOS)\n",
    "    d2 = d_2(EOS)\n",
    "    \n",
    "    ai = a_i(T, m, nu, Tc, Pc, R, C)\n",
    "    aij = a_ij(ai, C, k)\n",
    "    a = a_t(y, aij, C)\n",
    "    bi = b_i(nu, Tc, Pc, R, C)\n",
    "    b = b_t(y, bi, C)\n",
    "    \n",
    "    \n",
    "    A = A_dim(a, P, R, T)\n",
    "    B = B_dim(b, P, R, T)\n",
    "    \n",
    "    \n",
    "    \n",
    "    Z = CompFact(A, B, EOS)\n",
    "    \n",
    "    ALPHA = ALPHA_(y, aij, a, C)\n",
    "    BETA = BETA_(bi, b, C)\n",
    "    return ai, aij, a, bi, b, A, B, d1, d2, Z, ALPHA, BETA"
   ]
  },
  {
   "cell_type": "code",
   "execution_count": 15,
   "metadata": {},
   "outputs": [],
   "source": [
    "#ln(f/xP) the chemical potential departure for component i.\n",
    "def lnfc(ai, aij, a, bi, b, A, B, d1, d2, Z, ALPHA, BETA, C):\n",
    "    import jax\n",
    "    import jax.numpy as jnp\n",
    "    \n",
    "    \n",
    "    \n",
    "    lnfc = jnp.zeros(C)\n",
    "    E0 = jnp.log((Z+d1*B)/(Z+d2*B))\n",
    "    lnfci = BETA*(Z-1) -jnp.log(Z-B) - 2*(A/B)*ALPHA/(d1-d2)*E0 + (A/B)*BETA/(d1-d2)*E0\n",
    "    lnfc = lnfc.at[:].set(lnfci)\n",
    "        \n",
    "    return lnfc"
   ]
  },
  {
   "cell_type": "code",
   "execution_count": 81,
   "metadata": {},
   "outputs": [],
   "source": [
    "def dlnfc(ai, aij, a, bi, b, A, B, d1, d2, Z, ALPHA, BETA, C):\n",
    "    import jax\n",
    "    import jax.numpy as jnp\n",
    "    r = C-1\n",
    "    dlnfc = jnp.zeros([C, C])\n",
    "    for i in range(C):\n",
    "        for j in range(C):\n",
    "            d_Z0 = -B/((3*Z**2+2*(B-1)*Z)+(A-2*B-3*B**2)) \n",
    "            d_Z1 = 2*(Z-B)*(A/B)*(ALPHA[j]-ALPHA[r])\n",
    "            d_Z2 = (Z**2-(2+6*B)*Z+3*B**2+2*B-A)*(BETA[j]-BETA[r])\n",
    "            dZ = d_Z0*(d_Z1+d_Z2)\n",
    "            \n",
    "            \n",
    "            dABA = A/B*((aij[i][j]-aij[i][r])/a - (BETA[j]-BETA[r])*ALPHA[i])\n",
    "            dE0 = (dZ+d1*B*(BETA[j]-BETA[r]))/(Z+d1*B) - (dZ+d2*B*(BETA[j]-BETA[r]))/(Z+d2*B)\n",
    "            dAbB = 2*A/(b*B)*(ALPHA[j]-ALPHA[r]-BETA[j]+BETA[r])\n",
    "\n",
    "\n",
    "            E0 = jnp.log((Z+d1*B)/(Z+d2*B))\n",
    "            E1 = BETA[i]*(dZ - (Z-1)*(BETA[j]-BETA[r]))\n",
    "            E2 = (dZ - B*(BETA[j]-BETA[r]))/(B-Z)\n",
    "            E3 = -(A/B*dE0*ALPHA[i] + E0*dABA)/jnp.sqrt(2)\n",
    "            E4 = BETA[i]/jnp.sqrt(8)*(A/B*dE0 + E0*dAbB*b)\n",
    "            dlnfc = dlnfc.at[i, j].set(E1+E2+E3+E4)\n",
    "    \n",
    "    return dlnfc"
   ]
  },
  {
   "cell_type": "code",
   "execution_count": 82,
   "metadata": {},
   "outputs": [
    {
     "data": {
      "text/plain": [
       "Array([[ -2439.2969,  -5791.7827,      0.    ],\n",
       "       [  3385.646 ,   9068.097 ,      0.    ],\n",
       "       [ -4805.122 , -13982.552 ,  19501.572 ]], dtype=float32)"
      ]
     },
     "execution_count": 82,
     "metadata": {},
     "output_type": "execute_result"
    }
   ],
   "source": [
    "import scipy as sp\n",
    "import jax.numpy as jnp\n",
    "y = jnp.array([0.3, 0.5, 0.2])\n",
    "Tc = jnp.array([305.28, 469.7, 540.2])\n",
    "Pc = jnp.array([4.872e6, 3.37e6, 2.74e6])\n",
    "w = jnp.array([0.099, 0.252, 0.35])\n",
    "\n",
    "k = jnp.array([[0, 0.0076095,  0.0153243],[0.0076095, 0,  0.0013733],[0.0153243, 0.0013733, 0]])\n",
    "\n",
    "T = 469.1\n",
    "P = 5.038e6\n",
    "\n",
    "EOS = 'PR'\n",
    "R = sp.constants.R\n",
    "C = len(y)\n",
    "\n",
    "ChemicalPotential(y, T, P, Tc, Pc, w, k, R, C, EOS)"
   ]
  },
  {
   "cell_type": "code",
   "execution_count": 54,
   "metadata": {},
   "outputs": [
    {
     "data": {
      "text/plain": [
       "Array([[0.46217582, 0.9709684 , 1.3019899 ],\n",
       "       [0.9709684 , 2.071275  , 2.7953286 ],\n",
       "       [1.3019899 , 2.7953286 , 3.7828717 ]], dtype=float32)"
      ]
     },
     "execution_count": 54,
     "metadata": {},
     "output_type": "execute_result"
    }
   ],
   "source": [
    "aij"
   ]
  },
  {
   "cell_type": "code",
   "execution_count": 79,
   "metadata": {},
   "outputs": [],
   "source": [
    "def ChemicalPotential(y, T, P, Tc, Pc, w, k, R, C, EOS):\n",
    "    import jax\n",
    "    import jax.numpy as jnp\n",
    "    \n",
    "\n",
    "    ai, aij, a, bi, b, A, B, d1, d2, Z, ALPHA, BETA = EOS_Params(y, T, P, Tc, Pc, w, k, R, C, EOS)\n",
    "    lnf = lnfc(ai, aij, a, bi, b, A, B, d1, d2, Z, ALPHA, BETA, C)\n",
    "    dlnf = dlnfc(ai, aij, a, bi, b, A, B, d1, d2, Z, ALPHA, BETA, C)\n",
    "    \n",
    "    r = C-1\n",
    "    dmu = jnp.zeros([C, C])\n",
    "    for i in range(C):\n",
    "        for j in range(C):\n",
    "            if i != j:\n",
    "                if i != r:\n",
    "                    dmuij = dlnf[i, j]*R*T\n",
    "                elif i == r:\n",
    "                    dmuij = (dlnf[r, j] - 1/y[r])*R*T\n",
    "            else:\n",
    "                dmuij = (dlnf[j, j] + 1/y[j])*R*T\n",
    "            \n",
    "            dmu = dmu.at[i, j].set(dmuij)\n",
    "    return dmu"
   ]
  },
  {
   "cell_type": "code",
   "execution_count": 18,
   "metadata": {},
   "outputs": [],
   "source": [
    "def GeneralizedCubicHessian(y, yr, T, P, Tc, Pc, w, k, R, C, EOS):\n",
    "    import jax.numpy as jnp\n",
    "    dmu = ChemicalPotential(jnp.append(y, yr), T, P, Tc, Pc, w, k, R, C, EOS)\n",
    "    r = C-1\n",
    "    H = jnp.zeros([r, r])\n",
    "    \n",
    "    for i in range(r):\n",
    "        for j in range(r):\n",
    "            Hij = dmu[i, j]-dmu[r, j]\n",
    "            H = H.at[i, j].set(Hij)\n",
    "    return H"
   ]
  },
  {
   "cell_type": "code",
   "execution_count": 19,
   "metadata": {},
   "outputs": [],
   "source": [
    "def l_min(H):\n",
    "    import jax.numpy as jnp\n",
    "    import jax\n",
    "    \n",
    "    #Inverse power iteration\n",
    "    H_inv = jnp.linalg.inv(H)\n",
    "    umin = jnp.ones(len(H))\n",
    "    umin = umin/jnp.linalg.norm(umin)\n",
    "    for t in range(100):\n",
    "        umin = jnp.dot(H_inv, umin)\n",
    "        umin = umin/jnp.linalg.norm(umin)\n",
    "    \n",
    "    l = jnp.dot(jnp.dot(H, umin), umin)\n",
    "    return l, umin"
   ]
  },
  {
   "cell_type": "code",
   "execution_count": 20,
   "metadata": {},
   "outputs": [],
   "source": [
    "def CostFunction(TP, y, Tc, Pc, w, k, R, C, EOS):\n",
    "    import jax\n",
    "    import jax.numpy as jnp\n",
    "    T = TP[0]\n",
    "    P = TP[1]\n",
    "    yr = y[-1]\n",
    "    y = y[0:-1]\n",
    "    #Hf = jax.jit(GeneralizedCubicHessian, static_argnames=['C', 'R', 'EOS'])\n",
    "    #H = Hf(y, yr, T, P, Tc, Pc, w, k, R, C, EOS)\n",
    "    #H = GeneralizedCubicHessian(y, yr, T, P, Tc, Pc, w, k, R, C, EOS)\n",
    "    lmin = jax.jit(l_min)\n",
    "    l, u = lmin(H)\n",
    "    Q = l**2\n",
    "    \n",
    "    #Approximate the cubic form via central difference\n",
    "    phi = 1e-4\n",
    "    H0 = H\n",
    "    yn = y + phi*u\n",
    "    ynr = 1-sum(yn)\n",
    "    H1 = GeneralizedCubicHessian(yn, yr, T, P, Tc, Pc, w, k, R, C, EOS)\n",
    "    dH = (H1-H0)/phi\n",
    "    C = jnp.dot(jnp.dot(dH, u), u)**2\n",
    "    return Q+C"
   ]
  },
  {
   "cell_type": "code",
   "execution_count": 21,
   "metadata": {},
   "outputs": [],
   "source": [
    "def CalcRho(y, T, P, Tc, Pc, w, k, R, C, EOS):\n",
    "    import jax\n",
    "    import jax.numpy as jnp\n",
    "    ai, aij, a, bi, b, A, B, d1, d2, Z, ALPHA, BETA = EOS_Params(y, T, P, Tc, Pc, w, k, R, C, EOS)\n",
    "    rho = P/(Z*R*T)    \n",
    "    return rho"
   ]
  },
  {
   "cell_type": "code",
   "execution_count": 22,
   "metadata": {},
   "outputs": [],
   "source": [
    "def minimizer(MxN, DataSet, EOS, y_given = None):\n",
    "    import jax.numpy as jnp\n",
    "    import KeyFunctions as me\n",
    "    import jax\n",
    "    import numpy as np\n",
    "    import scipy as sp \n",
    "    from time import time as t\n",
    "\n",
    "    jax.config.update(\"jax_enable_x64\", True)\n",
    "    [y, Tc, Pc, w, C, R, Vc, k, mxNames] = me.LookUpMix(MxN, DataSet, EOS)\n",
    "    if y_given is not None:\n",
    "        y = y_given\n",
    "    \n",
    "    ts = t()\n",
    "    TP_guess = (jnp.dot(y, Tc).item(), jnp.dot(y, Pc).item())\n",
    "    #TP_bound = [(TP_guess[0]+50, TP_guess[0]+120), (TP_guess[1]*0.6, TP_guess[1])]\n",
    "    TP_bound = [(400, 450), (3.3e6, 3.8e6)]\n",
    "\n",
    "    minima = sp.optimize.differential_evolution(CostFunction, bounds = TP_bound, args = (y, Tc, Pc, w, k, R, C, EOS), mutation = 0.95, atol = 1e-16, init = 'sobol')\n",
    "    \n",
    "    if minima.fun > 1:\n",
    "        #TP_bound = [(TP_guess[0]-40, TP_guess[0]+200), (TP_guess[1]*0.4, TP_guess[1]*4)]\n",
    "        #minima = sp.optimize.differential_evolution(CostFunction, bounds = TP_bound, args = (y, Tc, Pc, w, k, R, C, EOS),\\\n",
    "         #                                       mutation = 0.95, popsize = 40, tol = 1e-16, recombination = 0.4)\n",
    "        if minima.fun > 1:\n",
    "            display('Erroneous Minima')\n",
    "    tn = t()\n",
    "    rn_time = tn-ts\n",
    "    rho = CalcRho(y, minima.x[0], minima.x[0], Tc, Pc, w, k, R, C, EOS)\n",
    "    return minima, rho, rn_time, TP_bound"
   ]
  },
  {
   "cell_type": "code",
   "execution_count": 24,
   "metadata": {},
   "outputs": [
    {
     "ename": "KeyboardInterrupt",
     "evalue": "",
     "output_type": "error",
     "traceback": [
      "\u001b[0;31m---------------------------------------------------------------------------\u001b[0m",
      "\u001b[0;31mKeyboardInterrupt\u001b[0m                         Traceback (most recent call last)",
      "\u001b[0;32m/tmp/ipykernel_127888/2043770788.py\u001b[0m in \u001b[0;36m<module>\u001b[0;34m\u001b[0m\n\u001b[1;32m     10\u001b[0m \u001b[0;34m[\u001b[0m\u001b[0my\u001b[0m\u001b[0;34m,\u001b[0m \u001b[0mTc\u001b[0m\u001b[0;34m,\u001b[0m \u001b[0mPc\u001b[0m\u001b[0;34m,\u001b[0m \u001b[0mw\u001b[0m\u001b[0;34m,\u001b[0m \u001b[0mC\u001b[0m\u001b[0;34m,\u001b[0m \u001b[0mR\u001b[0m\u001b[0;34m,\u001b[0m \u001b[0mVc\u001b[0m\u001b[0;34m,\u001b[0m \u001b[0mk\u001b[0m\u001b[0;34m,\u001b[0m \u001b[0mmxNames\u001b[0m\u001b[0;34m]\u001b[0m \u001b[0;34m=\u001b[0m \u001b[0mme\u001b[0m\u001b[0;34m.\u001b[0m\u001b[0mLookUpMix\u001b[0m\u001b[0;34m(\u001b[0m\u001b[0mMxN\u001b[0m\u001b[0;34m,\u001b[0m \u001b[0mDataSet\u001b[0m\u001b[0;34m,\u001b[0m \u001b[0mEOS\u001b[0m\u001b[0;34m)\u001b[0m\u001b[0;34m\u001b[0m\u001b[0;34m\u001b[0m\u001b[0m\n\u001b[1;32m     11\u001b[0m \u001b[0mts\u001b[0m \u001b[0;34m=\u001b[0m \u001b[0mt\u001b[0m\u001b[0;34m(\u001b[0m\u001b[0;34m)\u001b[0m\u001b[0;34m\u001b[0m\u001b[0;34m\u001b[0m\u001b[0m\n\u001b[0;32m---> 12\u001b[0;31m \u001b[0mCostFunction\u001b[0m\u001b[0;34m(\u001b[0m\u001b[0mTP\u001b[0m\u001b[0;34m,\u001b[0m \u001b[0my\u001b[0m\u001b[0;34m,\u001b[0m \u001b[0mTc\u001b[0m\u001b[0;34m,\u001b[0m \u001b[0mPc\u001b[0m\u001b[0;34m,\u001b[0m \u001b[0mw\u001b[0m\u001b[0;34m,\u001b[0m \u001b[0mk\u001b[0m\u001b[0;34m,\u001b[0m \u001b[0mR\u001b[0m\u001b[0;34m,\u001b[0m \u001b[0mC\u001b[0m\u001b[0;34m,\u001b[0m \u001b[0mEOS\u001b[0m\u001b[0;34m)\u001b[0m\u001b[0;34m\u001b[0m\u001b[0;34m\u001b[0m\u001b[0m\n\u001b[0m\u001b[1;32m     13\u001b[0m \u001b[0mtf\u001b[0m\u001b[0;34m=\u001b[0m \u001b[0mt\u001b[0m\u001b[0;34m(\u001b[0m\u001b[0;34m)\u001b[0m\u001b[0;34m\u001b[0m\u001b[0;34m\u001b[0m\u001b[0m\n\u001b[1;32m     14\u001b[0m \u001b[0mdisplay\u001b[0m\u001b[0;34m(\u001b[0m\u001b[0mtf\u001b[0m\u001b[0;34m-\u001b[0m\u001b[0mts\u001b[0m\u001b[0;34m)\u001b[0m\u001b[0;34m\u001b[0m\u001b[0;34m\u001b[0m\u001b[0m\n",
      "\u001b[0;32m/tmp/ipykernel_127888/2876288796.py\u001b[0m in \u001b[0;36mCostFunction\u001b[0;34m(TP, y, Tc, Pc, w, k, R, C, EOS)\u001b[0m\n\u001b[1;32m     18\u001b[0m     \u001b[0myn\u001b[0m \u001b[0;34m=\u001b[0m \u001b[0my\u001b[0m \u001b[0;34m+\u001b[0m \u001b[0mphi\u001b[0m\u001b[0;34m*\u001b[0m\u001b[0mu\u001b[0m\u001b[0;34m\u001b[0m\u001b[0;34m\u001b[0m\u001b[0m\n\u001b[1;32m     19\u001b[0m     \u001b[0mynr\u001b[0m \u001b[0;34m=\u001b[0m \u001b[0;36m1\u001b[0m\u001b[0;34m-\u001b[0m\u001b[0msum\u001b[0m\u001b[0;34m(\u001b[0m\u001b[0myn\u001b[0m\u001b[0;34m)\u001b[0m\u001b[0;34m\u001b[0m\u001b[0;34m\u001b[0m\u001b[0m\n\u001b[0;32m---> 20\u001b[0;31m     \u001b[0mH1\u001b[0m \u001b[0;34m=\u001b[0m \u001b[0mGeneralizedCubicHessian\u001b[0m\u001b[0;34m(\u001b[0m\u001b[0myn\u001b[0m\u001b[0;34m,\u001b[0m \u001b[0myr\u001b[0m\u001b[0;34m,\u001b[0m \u001b[0mT\u001b[0m\u001b[0;34m,\u001b[0m \u001b[0mP\u001b[0m\u001b[0;34m,\u001b[0m \u001b[0mTc\u001b[0m\u001b[0;34m,\u001b[0m \u001b[0mPc\u001b[0m\u001b[0;34m,\u001b[0m \u001b[0mw\u001b[0m\u001b[0;34m,\u001b[0m \u001b[0mk\u001b[0m\u001b[0;34m,\u001b[0m \u001b[0mR\u001b[0m\u001b[0;34m,\u001b[0m \u001b[0mC\u001b[0m\u001b[0;34m,\u001b[0m \u001b[0mEOS\u001b[0m\u001b[0;34m)\u001b[0m\u001b[0;34m\u001b[0m\u001b[0;34m\u001b[0m\u001b[0m\n\u001b[0m\u001b[1;32m     21\u001b[0m     \u001b[0mdH\u001b[0m \u001b[0;34m=\u001b[0m \u001b[0;34m(\u001b[0m\u001b[0mH1\u001b[0m\u001b[0;34m-\u001b[0m\u001b[0mH0\u001b[0m\u001b[0;34m)\u001b[0m\u001b[0;34m/\u001b[0m\u001b[0mphi\u001b[0m\u001b[0;34m\u001b[0m\u001b[0;34m\u001b[0m\u001b[0m\n\u001b[1;32m     22\u001b[0m     \u001b[0mC\u001b[0m \u001b[0;34m=\u001b[0m \u001b[0mjnp\u001b[0m\u001b[0;34m.\u001b[0m\u001b[0mdot\u001b[0m\u001b[0;34m(\u001b[0m\u001b[0mjnp\u001b[0m\u001b[0;34m.\u001b[0m\u001b[0mdot\u001b[0m\u001b[0;34m(\u001b[0m\u001b[0mdH\u001b[0m\u001b[0;34m,\u001b[0m \u001b[0mu\u001b[0m\u001b[0;34m)\u001b[0m\u001b[0;34m,\u001b[0m \u001b[0mu\u001b[0m\u001b[0;34m)\u001b[0m\u001b[0;34m**\u001b[0m\u001b[0;36m2\u001b[0m\u001b[0;34m\u001b[0m\u001b[0;34m\u001b[0m\u001b[0m\n",
      "\u001b[0;32m/tmp/ipykernel_127888/385499187.py\u001b[0m in \u001b[0;36mGeneralizedCubicHessian\u001b[0;34m(y, yr, T, P, Tc, Pc, w, k, R, C, EOS)\u001b[0m\n\u001b[1;32m      7\u001b[0m     \u001b[0;32mfor\u001b[0m \u001b[0mi\u001b[0m \u001b[0;32min\u001b[0m \u001b[0mrange\u001b[0m\u001b[0;34m(\u001b[0m\u001b[0mr\u001b[0m\u001b[0;34m)\u001b[0m\u001b[0;34m:\u001b[0m\u001b[0;34m\u001b[0m\u001b[0;34m\u001b[0m\u001b[0m\n\u001b[1;32m      8\u001b[0m         \u001b[0;32mfor\u001b[0m \u001b[0mj\u001b[0m \u001b[0;32min\u001b[0m \u001b[0mrange\u001b[0m\u001b[0;34m(\u001b[0m\u001b[0mr\u001b[0m\u001b[0;34m)\u001b[0m\u001b[0;34m:\u001b[0m\u001b[0;34m\u001b[0m\u001b[0;34m\u001b[0m\u001b[0m\n\u001b[0;32m----> 9\u001b[0;31m             \u001b[0mHij\u001b[0m \u001b[0;34m=\u001b[0m \u001b[0mdmu\u001b[0m\u001b[0;34m[\u001b[0m\u001b[0mi\u001b[0m\u001b[0;34m,\u001b[0m \u001b[0mj\u001b[0m\u001b[0;34m]\u001b[0m\u001b[0;34m-\u001b[0m\u001b[0mdmu\u001b[0m\u001b[0;34m[\u001b[0m\u001b[0mr\u001b[0m\u001b[0;34m,\u001b[0m \u001b[0mj\u001b[0m\u001b[0;34m]\u001b[0m\u001b[0;34m\u001b[0m\u001b[0;34m\u001b[0m\u001b[0m\n\u001b[0m\u001b[1;32m     10\u001b[0m             \u001b[0mH\u001b[0m \u001b[0;34m=\u001b[0m \u001b[0mH\u001b[0m\u001b[0;34m.\u001b[0m\u001b[0mat\u001b[0m\u001b[0;34m[\u001b[0m\u001b[0mi\u001b[0m\u001b[0;34m,\u001b[0m \u001b[0mj\u001b[0m\u001b[0;34m]\u001b[0m\u001b[0;34m.\u001b[0m\u001b[0mset\u001b[0m\u001b[0;34m(\u001b[0m\u001b[0mHij\u001b[0m\u001b[0;34m)\u001b[0m\u001b[0;34m\u001b[0m\u001b[0;34m\u001b[0m\u001b[0m\n\u001b[1;32m     11\u001b[0m     \u001b[0;32mreturn\u001b[0m \u001b[0mH\u001b[0m\u001b[0;34m\u001b[0m\u001b[0;34m\u001b[0m\u001b[0m\n",
      "\u001b[0;32m/gpfs/fs1/home/a/andyli/vishjay/.virtualenvs/CritPointDet/lib/python3.9/site-packages/jax/_src/array.py\u001b[0m in \u001b[0;36m__getitem__\u001b[0;34m(self, idx)\u001b[0m\n\u001b[1;32m    341\u001b[0m       \u001b[0;32mreturn\u001b[0m \u001b[0mlax_numpy\u001b[0m\u001b[0;34m.\u001b[0m\u001b[0m_rewriting_take\u001b[0m\u001b[0;34m(\u001b[0m\u001b[0mself\u001b[0m\u001b[0;34m,\u001b[0m \u001b[0midx\u001b[0m\u001b[0;34m)\u001b[0m\u001b[0;34m\u001b[0m\u001b[0;34m\u001b[0m\u001b[0m\n\u001b[1;32m    342\u001b[0m     \u001b[0;32melse\u001b[0m\u001b[0;34m:\u001b[0m\u001b[0;34m\u001b[0m\u001b[0;34m\u001b[0m\u001b[0m\n\u001b[0;32m--> 343\u001b[0;31m       \u001b[0;32mreturn\u001b[0m \u001b[0mlax_numpy\u001b[0m\u001b[0;34m.\u001b[0m\u001b[0m_rewriting_take\u001b[0m\u001b[0;34m(\u001b[0m\u001b[0mself\u001b[0m\u001b[0;34m,\u001b[0m \u001b[0midx\u001b[0m\u001b[0;34m)\u001b[0m\u001b[0;34m\u001b[0m\u001b[0;34m\u001b[0m\u001b[0m\n\u001b[0m\u001b[1;32m    344\u001b[0m \u001b[0;34m\u001b[0m\u001b[0m\n\u001b[1;32m    345\u001b[0m   \u001b[0;32mdef\u001b[0m \u001b[0m__iter__\u001b[0m\u001b[0;34m(\u001b[0m\u001b[0mself\u001b[0m\u001b[0;34m)\u001b[0m\u001b[0;34m:\u001b[0m\u001b[0;34m\u001b[0m\u001b[0;34m\u001b[0m\u001b[0m\n",
      "\u001b[0;32m/gpfs/fs1/home/a/andyli/vishjay/.virtualenvs/CritPointDet/lib/python3.9/site-packages/jax/_src/numpy/lax_numpy.py\u001b[0m in \u001b[0;36m_rewriting_take\u001b[0;34m(arr, idx, indices_are_sorted, unique_indices, mode, fill_value)\u001b[0m\n\u001b[1;32m   3906\u001b[0m \u001b[0;34m\u001b[0m\u001b[0m\n\u001b[1;32m   3907\u001b[0m   \u001b[0mtreedef\u001b[0m\u001b[0;34m,\u001b[0m \u001b[0mstatic_idx\u001b[0m\u001b[0;34m,\u001b[0m \u001b[0mdynamic_idx\u001b[0m \u001b[0;34m=\u001b[0m \u001b[0m_split_index_for_jit\u001b[0m\u001b[0;34m(\u001b[0m\u001b[0midx\u001b[0m\u001b[0;34m,\u001b[0m \u001b[0marr\u001b[0m\u001b[0;34m.\u001b[0m\u001b[0mshape\u001b[0m\u001b[0;34m)\u001b[0m\u001b[0;34m\u001b[0m\u001b[0;34m\u001b[0m\u001b[0m\n\u001b[0;32m-> 3908\u001b[0;31m   return _gather(arr, treedef, static_idx, dynamic_idx, indices_are_sorted,\n\u001b[0m\u001b[1;32m   3909\u001b[0m                  unique_indices, mode, fill_value)\n\u001b[1;32m   3910\u001b[0m \u001b[0;34m\u001b[0m\u001b[0m\n",
      "\u001b[0;32m/gpfs/fs1/home/a/andyli/vishjay/.virtualenvs/CritPointDet/lib/python3.9/site-packages/jax/_src/numpy/lax_numpy.py\u001b[0m in \u001b[0;36m_gather\u001b[0;34m(arr, treedef, static_idx, dynamic_idx, indices_are_sorted, unique_indices, mode, fill_value)\u001b[0m\n\u001b[1;32m   3915\u001b[0m             unique_indices, mode, fill_value):\n\u001b[1;32m   3916\u001b[0m   \u001b[0midx\u001b[0m \u001b[0;34m=\u001b[0m \u001b[0m_merge_static_and_dynamic_indices\u001b[0m\u001b[0;34m(\u001b[0m\u001b[0mtreedef\u001b[0m\u001b[0;34m,\u001b[0m \u001b[0mstatic_idx\u001b[0m\u001b[0;34m,\u001b[0m \u001b[0mdynamic_idx\u001b[0m\u001b[0;34m)\u001b[0m\u001b[0;34m\u001b[0m\u001b[0;34m\u001b[0m\u001b[0m\n\u001b[0;32m-> 3917\u001b[0;31m   \u001b[0mindexer\u001b[0m \u001b[0;34m=\u001b[0m \u001b[0m_index_to_gather\u001b[0m\u001b[0;34m(\u001b[0m\u001b[0mshape\u001b[0m\u001b[0;34m(\u001b[0m\u001b[0marr\u001b[0m\u001b[0;34m)\u001b[0m\u001b[0;34m,\u001b[0m \u001b[0midx\u001b[0m\u001b[0;34m)\u001b[0m  \u001b[0;31m# shared with _scatter_update\u001b[0m\u001b[0;34m\u001b[0m\u001b[0;34m\u001b[0m\u001b[0m\n\u001b[0m\u001b[1;32m   3918\u001b[0m   \u001b[0my\u001b[0m \u001b[0;34m=\u001b[0m \u001b[0marr\u001b[0m\u001b[0;34m\u001b[0m\u001b[0;34m\u001b[0m\u001b[0m\n\u001b[1;32m   3919\u001b[0m \u001b[0;34m\u001b[0m\u001b[0m\n",
      "\u001b[0;32m/gpfs/fs1/home/a/andyli/vishjay/.virtualenvs/CritPointDet/lib/python3.9/site-packages/jax/_src/numpy/lax_numpy.py\u001b[0m in \u001b[0;36m_index_to_gather\u001b[0;34m(x_shape, idx, normalize_indices)\u001b[0m\n\u001b[1;32m   4116\u001b[0m         \u001b[0;32mraise\u001b[0m \u001b[0mIndexError\u001b[0m\u001b[0;34m(\u001b[0m\u001b[0;34mf\"index is out of bounds for axis {x_axis} with size 0\"\u001b[0m\u001b[0;34m)\u001b[0m\u001b[0;34m\u001b[0m\u001b[0;34m\u001b[0m\u001b[0m\n\u001b[1;32m   4117\u001b[0m       \u001b[0mi\u001b[0m \u001b[0;34m=\u001b[0m \u001b[0m_normalize_index\u001b[0m\u001b[0;34m(\u001b[0m\u001b[0mi\u001b[0m\u001b[0;34m,\u001b[0m \u001b[0mx_shape\u001b[0m\u001b[0;34m[\u001b[0m\u001b[0mx_axis\u001b[0m\u001b[0;34m]\u001b[0m\u001b[0;34m)\u001b[0m \u001b[0;32mif\u001b[0m \u001b[0mnormalize_indices\u001b[0m \u001b[0;32melse\u001b[0m \u001b[0mi\u001b[0m\u001b[0;34m\u001b[0m\u001b[0;34m\u001b[0m\u001b[0m\n\u001b[0;32m-> 4118\u001b[0;31m       \u001b[0mi\u001b[0m \u001b[0;34m=\u001b[0m \u001b[0mlax\u001b[0m\u001b[0;34m.\u001b[0m\u001b[0mconvert_element_type\u001b[0m\u001b[0;34m(\u001b[0m\u001b[0mi\u001b[0m\u001b[0;34m,\u001b[0m \u001b[0mindex_dtype\u001b[0m\u001b[0;34m)\u001b[0m\u001b[0;34m\u001b[0m\u001b[0;34m\u001b[0m\u001b[0m\n\u001b[0m\u001b[1;32m   4119\u001b[0m       \u001b[0mgather_indices\u001b[0m\u001b[0;34m.\u001b[0m\u001b[0mappend\u001b[0m\u001b[0;34m(\u001b[0m\u001b[0;34m(\u001b[0m\u001b[0mi\u001b[0m\u001b[0;34m,\u001b[0m \u001b[0mlen\u001b[0m\u001b[0;34m(\u001b[0m\u001b[0mgather_indices_shape\u001b[0m\u001b[0;34m)\u001b[0m\u001b[0;34m)\u001b[0m\u001b[0;34m)\u001b[0m\u001b[0;34m\u001b[0m\u001b[0;34m\u001b[0m\u001b[0m\n\u001b[1;32m   4120\u001b[0m       \u001b[0mcollapsed_slice_dims\u001b[0m\u001b[0;34m.\u001b[0m\u001b[0mappend\u001b[0m\u001b[0;34m(\u001b[0m\u001b[0mx_axis\u001b[0m\u001b[0;34m)\u001b[0m\u001b[0;34m\u001b[0m\u001b[0;34m\u001b[0m\u001b[0m\n",
      "\u001b[0;32m/gpfs/fs1/home/a/andyli/vishjay/.virtualenvs/CritPointDet/lib/python3.9/site-packages/jax/_src/lax/lax.py\u001b[0m in \u001b[0;36mconvert_element_type\u001b[0;34m(operand, new_dtype)\u001b[0m\n\u001b[1;32m    499\u001b[0m   \u001b[0;32mif\u001b[0m \u001b[0mhasattr\u001b[0m\u001b[0;34m(\u001b[0m\u001b[0moperand\u001b[0m\u001b[0;34m,\u001b[0m \u001b[0;34m'__jax_array__'\u001b[0m\u001b[0;34m)\u001b[0m\u001b[0;34m:\u001b[0m\u001b[0;34m\u001b[0m\u001b[0;34m\u001b[0m\u001b[0m\n\u001b[1;32m    500\u001b[0m     \u001b[0moperand\u001b[0m \u001b[0;34m=\u001b[0m \u001b[0moperand\u001b[0m\u001b[0;34m.\u001b[0m\u001b[0m__jax_array__\u001b[0m\u001b[0;34m(\u001b[0m\u001b[0;34m)\u001b[0m  \u001b[0;31m# type: ignore\u001b[0m\u001b[0;34m\u001b[0m\u001b[0;34m\u001b[0m\u001b[0m\n\u001b[0;32m--> 501\u001b[0;31m   \u001b[0;32mreturn\u001b[0m \u001b[0m_convert_element_type\u001b[0m\u001b[0;34m(\u001b[0m\u001b[0moperand\u001b[0m\u001b[0;34m,\u001b[0m \u001b[0mnew_dtype\u001b[0m\u001b[0;34m,\u001b[0m \u001b[0mweak_type\u001b[0m\u001b[0;34m=\u001b[0m\u001b[0;32mFalse\u001b[0m\u001b[0;34m)\u001b[0m\u001b[0;34m\u001b[0m\u001b[0;34m\u001b[0m\u001b[0m\n\u001b[0m\u001b[1;32m    502\u001b[0m \u001b[0;34m\u001b[0m\u001b[0m\n\u001b[1;32m    503\u001b[0m def _convert_element_type(operand: ArrayLike, new_dtype: Optional[DTypeLike] = None,\n",
      "\u001b[0;32m/gpfs/fs1/home/a/andyli/vishjay/.virtualenvs/CritPointDet/lib/python3.9/site-packages/jax/_src/lax/lax.py\u001b[0m in \u001b[0;36m_convert_element_type\u001b[0;34m(operand, new_dtype, weak_type)\u001b[0m\n\u001b[1;32m    535\u001b[0m     \u001b[0;32mreturn\u001b[0m \u001b[0mtype_cast\u001b[0m\u001b[0;34m(\u001b[0m\u001b[0mArray\u001b[0m\u001b[0;34m,\u001b[0m \u001b[0moperand\u001b[0m\u001b[0;34m)\u001b[0m\u001b[0;34m\u001b[0m\u001b[0;34m\u001b[0m\u001b[0m\n\u001b[1;32m    536\u001b[0m   \u001b[0;32melse\u001b[0m\u001b[0;34m:\u001b[0m\u001b[0;34m\u001b[0m\u001b[0;34m\u001b[0m\u001b[0m\n\u001b[0;32m--> 537\u001b[0;31m     return convert_element_type_p.bind(operand, new_dtype=new_dtype,\n\u001b[0m\u001b[1;32m    538\u001b[0m                                        weak_type=bool(weak_type))\n\u001b[1;32m    539\u001b[0m \u001b[0;34m\u001b[0m\u001b[0m\n",
      "\u001b[0;32m/gpfs/fs1/home/a/andyli/vishjay/.virtualenvs/CritPointDet/lib/python3.9/site-packages/jax/_src/core.py\u001b[0m in \u001b[0;36mbind\u001b[0;34m(self, *args, **params)\u001b[0m\n\u001b[1;32m    358\u001b[0m     assert (not config.jax_enable_checks or\n\u001b[1;32m    359\u001b[0m             all(isinstance(arg, Tracer) or valid_jaxtype(arg) for arg in args)), args\n\u001b[0;32m--> 360\u001b[0;31m     \u001b[0;32mreturn\u001b[0m \u001b[0mself\u001b[0m\u001b[0;34m.\u001b[0m\u001b[0mbind_with_trace\u001b[0m\u001b[0;34m(\u001b[0m\u001b[0mfind_top_trace\u001b[0m\u001b[0;34m(\u001b[0m\u001b[0margs\u001b[0m\u001b[0;34m)\u001b[0m\u001b[0;34m,\u001b[0m \u001b[0margs\u001b[0m\u001b[0;34m,\u001b[0m \u001b[0mparams\u001b[0m\u001b[0;34m)\u001b[0m\u001b[0;34m\u001b[0m\u001b[0;34m\u001b[0m\u001b[0m\n\u001b[0m\u001b[1;32m    361\u001b[0m \u001b[0;34m\u001b[0m\u001b[0m\n\u001b[1;32m    362\u001b[0m   \u001b[0;32mdef\u001b[0m \u001b[0mbind_with_trace\u001b[0m\u001b[0;34m(\u001b[0m\u001b[0mself\u001b[0m\u001b[0;34m,\u001b[0m \u001b[0mtrace\u001b[0m\u001b[0;34m,\u001b[0m \u001b[0margs\u001b[0m\u001b[0;34m,\u001b[0m \u001b[0mparams\u001b[0m\u001b[0;34m)\u001b[0m\u001b[0;34m:\u001b[0m\u001b[0;34m\u001b[0m\u001b[0;34m\u001b[0m\u001b[0m\n",
      "\u001b[0;32m/gpfs/fs1/home/a/andyli/vishjay/.virtualenvs/CritPointDet/lib/python3.9/site-packages/jax/_src/core.py\u001b[0m in \u001b[0;36mbind_with_trace\u001b[0;34m(self, trace, args, params)\u001b[0m\n\u001b[1;32m    361\u001b[0m \u001b[0;34m\u001b[0m\u001b[0m\n\u001b[1;32m    362\u001b[0m   \u001b[0;32mdef\u001b[0m \u001b[0mbind_with_trace\u001b[0m\u001b[0;34m(\u001b[0m\u001b[0mself\u001b[0m\u001b[0;34m,\u001b[0m \u001b[0mtrace\u001b[0m\u001b[0;34m,\u001b[0m \u001b[0margs\u001b[0m\u001b[0;34m,\u001b[0m \u001b[0mparams\u001b[0m\u001b[0;34m)\u001b[0m\u001b[0;34m:\u001b[0m\u001b[0;34m\u001b[0m\u001b[0;34m\u001b[0m\u001b[0m\n\u001b[0;32m--> 363\u001b[0;31m     \u001b[0mout\u001b[0m \u001b[0;34m=\u001b[0m \u001b[0mtrace\u001b[0m\u001b[0;34m.\u001b[0m\u001b[0mprocess_primitive\u001b[0m\u001b[0;34m(\u001b[0m\u001b[0mself\u001b[0m\u001b[0;34m,\u001b[0m \u001b[0mmap\u001b[0m\u001b[0;34m(\u001b[0m\u001b[0mtrace\u001b[0m\u001b[0;34m.\u001b[0m\u001b[0mfull_raise\u001b[0m\u001b[0;34m,\u001b[0m \u001b[0margs\u001b[0m\u001b[0;34m)\u001b[0m\u001b[0;34m,\u001b[0m \u001b[0mparams\u001b[0m\u001b[0;34m)\u001b[0m\u001b[0;34m\u001b[0m\u001b[0;34m\u001b[0m\u001b[0m\n\u001b[0m\u001b[1;32m    364\u001b[0m     \u001b[0;32mreturn\u001b[0m \u001b[0mmap\u001b[0m\u001b[0;34m(\u001b[0m\u001b[0mfull_lower\u001b[0m\u001b[0;34m,\u001b[0m \u001b[0mout\u001b[0m\u001b[0;34m)\u001b[0m \u001b[0;32mif\u001b[0m \u001b[0mself\u001b[0m\u001b[0;34m.\u001b[0m\u001b[0mmultiple_results\u001b[0m \u001b[0;32melse\u001b[0m \u001b[0mfull_lower\u001b[0m\u001b[0;34m(\u001b[0m\u001b[0mout\u001b[0m\u001b[0;34m)\u001b[0m\u001b[0;34m\u001b[0m\u001b[0;34m\u001b[0m\u001b[0m\n\u001b[1;32m    365\u001b[0m \u001b[0;34m\u001b[0m\u001b[0m\n",
      "\u001b[0;32m/gpfs/fs1/home/a/andyli/vishjay/.virtualenvs/CritPointDet/lib/python3.9/site-packages/jax/_src/core.py\u001b[0m in \u001b[0;36mprocess_primitive\u001b[0;34m(self, primitive, tracers, params)\u001b[0m\n\u001b[1;32m    815\u001b[0m \u001b[0;34m\u001b[0m\u001b[0m\n\u001b[1;32m    816\u001b[0m   \u001b[0;32mdef\u001b[0m \u001b[0mprocess_primitive\u001b[0m\u001b[0;34m(\u001b[0m\u001b[0mself\u001b[0m\u001b[0;34m,\u001b[0m \u001b[0mprimitive\u001b[0m\u001b[0;34m,\u001b[0m \u001b[0mtracers\u001b[0m\u001b[0;34m,\u001b[0m \u001b[0mparams\u001b[0m\u001b[0;34m)\u001b[0m\u001b[0;34m:\u001b[0m\u001b[0;34m\u001b[0m\u001b[0;34m\u001b[0m\u001b[0m\n\u001b[0;32m--> 817\u001b[0;31m     \u001b[0;32mreturn\u001b[0m \u001b[0mprimitive\u001b[0m\u001b[0;34m.\u001b[0m\u001b[0mimpl\u001b[0m\u001b[0;34m(\u001b[0m\u001b[0;34m*\u001b[0m\u001b[0mtracers\u001b[0m\u001b[0;34m,\u001b[0m \u001b[0;34m**\u001b[0m\u001b[0mparams\u001b[0m\u001b[0;34m)\u001b[0m\u001b[0;34m\u001b[0m\u001b[0;34m\u001b[0m\u001b[0m\n\u001b[0m\u001b[1;32m    818\u001b[0m \u001b[0;34m\u001b[0m\u001b[0m\n\u001b[1;32m    819\u001b[0m   \u001b[0;32mdef\u001b[0m \u001b[0mprocess_call\u001b[0m\u001b[0;34m(\u001b[0m\u001b[0mself\u001b[0m\u001b[0;34m,\u001b[0m \u001b[0mprimitive\u001b[0m\u001b[0;34m,\u001b[0m \u001b[0mf\u001b[0m\u001b[0;34m,\u001b[0m \u001b[0mtracers\u001b[0m\u001b[0;34m,\u001b[0m \u001b[0mparams\u001b[0m\u001b[0;34m)\u001b[0m\u001b[0;34m:\u001b[0m\u001b[0;34m\u001b[0m\u001b[0;34m\u001b[0m\u001b[0m\n",
      "\u001b[0;32m/gpfs/fs1/home/a/andyli/vishjay/.virtualenvs/CritPointDet/lib/python3.9/site-packages/jax/_src/dispatch.py\u001b[0m in \u001b[0;36mapply_primitive\u001b[0;34m(prim, *args, **params)\u001b[0m\n\u001b[1;32m    127\u001b[0m     \u001b[0;32mraise\u001b[0m \u001b[0mValueError\u001b[0m\u001b[0;34m(\u001b[0m\u001b[0mmsg\u001b[0m\u001b[0;34m)\u001b[0m \u001b[0;32mfrom\u001b[0m \u001b[0;32mNone\u001b[0m\u001b[0;34m\u001b[0m\u001b[0;34m\u001b[0m\u001b[0m\n\u001b[1;32m    128\u001b[0m \u001b[0;34m\u001b[0m\u001b[0m\n\u001b[0;32m--> 129\u001b[0;31m   \u001b[0;32mreturn\u001b[0m \u001b[0mcompiled_fun\u001b[0m\u001b[0;34m(\u001b[0m\u001b[0;34m*\u001b[0m\u001b[0margs\u001b[0m\u001b[0;34m)\u001b[0m\u001b[0;34m\u001b[0m\u001b[0;34m\u001b[0m\u001b[0m\n\u001b[0m\u001b[1;32m    130\u001b[0m \u001b[0;34m\u001b[0m\u001b[0m\n\u001b[1;32m    131\u001b[0m \u001b[0;34m\u001b[0m\u001b[0m\n",
      "\u001b[0;32m/gpfs/fs1/home/a/andyli/vishjay/.virtualenvs/CritPointDet/lib/python3.9/site-packages/jax/_src/dispatch.py\u001b[0m in \u001b[0;36m<lambda>\u001b[0;34m(*args, **kw)\u001b[0m\n\u001b[1;32m    209\u001b[0m                                     donated_invars, False, *arg_specs)\n\u001b[1;32m    210\u001b[0m   \u001b[0;32mif\u001b[0m \u001b[0;32mnot\u001b[0m \u001b[0mprim\u001b[0m\u001b[0;34m.\u001b[0m\u001b[0mmultiple_results\u001b[0m\u001b[0;34m:\u001b[0m\u001b[0;34m\u001b[0m\u001b[0;34m\u001b[0m\u001b[0m\n\u001b[0;32m--> 211\u001b[0;31m     \u001b[0;32mreturn\u001b[0m \u001b[0;32mlambda\u001b[0m \u001b[0;34m*\u001b[0m\u001b[0margs\u001b[0m\u001b[0;34m,\u001b[0m \u001b[0;34m**\u001b[0m\u001b[0mkw\u001b[0m\u001b[0;34m:\u001b[0m \u001b[0mcompiled\u001b[0m\u001b[0;34m(\u001b[0m\u001b[0;34m*\u001b[0m\u001b[0margs\u001b[0m\u001b[0;34m,\u001b[0m \u001b[0;34m**\u001b[0m\u001b[0mkw\u001b[0m\u001b[0;34m)\u001b[0m\u001b[0;34m[\u001b[0m\u001b[0;36m0\u001b[0m\u001b[0;34m]\u001b[0m\u001b[0;34m\u001b[0m\u001b[0;34m\u001b[0m\u001b[0m\n\u001b[0m\u001b[1;32m    212\u001b[0m   \u001b[0;32melse\u001b[0m\u001b[0;34m:\u001b[0m\u001b[0;34m\u001b[0m\u001b[0;34m\u001b[0m\u001b[0m\n\u001b[1;32m    213\u001b[0m     \u001b[0;32mreturn\u001b[0m \u001b[0mcompiled\u001b[0m\u001b[0;34m\u001b[0m\u001b[0;34m\u001b[0m\u001b[0m\n",
      "\u001b[0;32m/gpfs/fs1/home/a/andyli/vishjay/.virtualenvs/CritPointDet/lib/python3.9/site-packages/jax/_src/interpreters/pxla.py\u001b[0m in \u001b[0;36m_execute_trivial\u001b[0;34m(jaxpr, consts, in_handler, out_handler, kept_var_idx, *args)\u001b[0m\n\u001b[1;32m   3259\u001b[0m   outs = [xla.canonicalize_dtype(v.val) if type(v) is core.Literal else env[v]\n\u001b[1;32m   3260\u001b[0m           for v in jaxpr.outvars]\n\u001b[0;32m-> 3261\u001b[0;31m   \u001b[0;32mreturn\u001b[0m \u001b[0mout_handler\u001b[0m\u001b[0;34m(\u001b[0m\u001b[0min_handler\u001b[0m\u001b[0;34m(\u001b[0m\u001b[0mouts\u001b[0m\u001b[0;34m)\u001b[0m\u001b[0;34m)\u001b[0m\u001b[0;34m\u001b[0m\u001b[0;34m\u001b[0m\u001b[0m\n\u001b[0m\u001b[1;32m   3262\u001b[0m \u001b[0;34m\u001b[0m\u001b[0m\n\u001b[1;32m   3263\u001b[0m \u001b[0;34m\u001b[0m\u001b[0m\n",
      "\u001b[0;32m/gpfs/fs1/home/a/andyli/vishjay/.virtualenvs/CritPointDet/lib/python3.9/site-packages/jax/_src/interpreters/pxla.py\u001b[0m in \u001b[0;36m__call__\u001b[0;34m(self, input_buffers)\u001b[0m\n\u001b[1;32m   1673\u001b[0m \u001b[0;34m\u001b[0m\u001b[0m\n\u001b[1;32m   1674\u001b[0m   \u001b[0;32mdef\u001b[0m \u001b[0m__call__\u001b[0m\u001b[0;34m(\u001b[0m\u001b[0mself\u001b[0m\u001b[0;34m,\u001b[0m \u001b[0minput_buffers\u001b[0m\u001b[0;34m)\u001b[0m\u001b[0;34m:\u001b[0m\u001b[0;34m\u001b[0m\u001b[0;34m\u001b[0m\u001b[0m\n\u001b[0;32m-> 1675\u001b[0;31m     \u001b[0;32mreturn\u001b[0m \u001b[0mself\u001b[0m\u001b[0;34m.\u001b[0m\u001b[0mhandler\u001b[0m\u001b[0;34m(\u001b[0m\u001b[0minput_buffers\u001b[0m\u001b[0;34m)\u001b[0m\u001b[0;34m\u001b[0m\u001b[0;34m\u001b[0m\u001b[0m\n\u001b[0m\u001b[1;32m   1676\u001b[0m \u001b[0;34m\u001b[0m\u001b[0m\n\u001b[1;32m   1677\u001b[0m   \u001b[0;32mdef\u001b[0m \u001b[0m__str__\u001b[0m\u001b[0;34m(\u001b[0m\u001b[0mself\u001b[0m\u001b[0;34m)\u001b[0m\u001b[0;34m:\u001b[0m\u001b[0;34m\u001b[0m\u001b[0;34m\u001b[0m\u001b[0m\n",
      "\u001b[0;32m/gpfs/fs1/home/a/andyli/vishjay/.virtualenvs/CritPointDet/lib/python3.9/site-packages/jax/_src/profiler.py\u001b[0m in \u001b[0;36mwrapper\u001b[0;34m(*args, **kwargs)\u001b[0m\n\u001b[1;32m    312\u001b[0m   \u001b[0;32mdef\u001b[0m \u001b[0mwrapper\u001b[0m\u001b[0;34m(\u001b[0m\u001b[0;34m*\u001b[0m\u001b[0margs\u001b[0m\u001b[0;34m,\u001b[0m \u001b[0;34m**\u001b[0m\u001b[0mkwargs\u001b[0m\u001b[0;34m)\u001b[0m\u001b[0;34m:\u001b[0m\u001b[0;34m\u001b[0m\u001b[0;34m\u001b[0m\u001b[0m\n\u001b[1;32m    313\u001b[0m     \u001b[0;32mwith\u001b[0m \u001b[0mTraceAnnotation\u001b[0m\u001b[0;34m(\u001b[0m\u001b[0mname\u001b[0m\u001b[0;34m,\u001b[0m \u001b[0;34m**\u001b[0m\u001b[0mdecorator_kwargs\u001b[0m\u001b[0;34m)\u001b[0m\u001b[0;34m:\u001b[0m\u001b[0;34m\u001b[0m\u001b[0;34m\u001b[0m\u001b[0m\n\u001b[0;32m--> 314\u001b[0;31m       \u001b[0;32mreturn\u001b[0m \u001b[0mfunc\u001b[0m\u001b[0;34m(\u001b[0m\u001b[0;34m*\u001b[0m\u001b[0margs\u001b[0m\u001b[0;34m,\u001b[0m \u001b[0;34m**\u001b[0m\u001b[0mkwargs\u001b[0m\u001b[0;34m)\u001b[0m\u001b[0;34m\u001b[0m\u001b[0;34m\u001b[0m\u001b[0m\n\u001b[0m\u001b[1;32m    315\u001b[0m     \u001b[0;32mreturn\u001b[0m \u001b[0mwrapper\u001b[0m\u001b[0;34m\u001b[0m\u001b[0;34m\u001b[0m\u001b[0m\n\u001b[1;32m    316\u001b[0m   \u001b[0;32mreturn\u001b[0m \u001b[0mwrapper\u001b[0m\u001b[0;34m\u001b[0m\u001b[0;34m\u001b[0m\u001b[0m\n",
      "\u001b[0;32m/gpfs/fs1/home/a/andyli/vishjay/.virtualenvs/CritPointDet/lib/python3.9/site-packages/jax/_src/interpreters/pxla.py\u001b[0m in \u001b[0;36mshard_args\u001b[0;34m(devices, indices, shardings, args)\u001b[0m\n\u001b[1;32m    407\u001b[0m     \u001b[0;32mfor\u001b[0m \u001b[0meach\u001b[0m \u001b[0margument\u001b[0m\u001b[0;34m.\u001b[0m\u001b[0;34m\u001b[0m\u001b[0;34m\u001b[0m\u001b[0m\n\u001b[1;32m    408\u001b[0m   \"\"\"\n\u001b[0;32m--> 409\u001b[0;31m   return [shard_arg(arg, devices, indices[i], shardings[i])\n\u001b[0m\u001b[1;32m    410\u001b[0m           for i, arg in enumerate(args)]\n\u001b[1;32m    411\u001b[0m \u001b[0;34m\u001b[0m\u001b[0m\n",
      "\u001b[0;32m/gpfs/fs1/home/a/andyli/vishjay/.virtualenvs/CritPointDet/lib/python3.9/site-packages/jax/_src/interpreters/pxla.py\u001b[0m in \u001b[0;36m<listcomp>\u001b[0;34m(.0)\u001b[0m\n\u001b[1;32m    407\u001b[0m     \u001b[0;32mfor\u001b[0m \u001b[0meach\u001b[0m \u001b[0margument\u001b[0m\u001b[0;34m.\u001b[0m\u001b[0;34m\u001b[0m\u001b[0;34m\u001b[0m\u001b[0m\n\u001b[1;32m    408\u001b[0m   \"\"\"\n\u001b[0;32m--> 409\u001b[0;31m   return [shard_arg(arg, devices, indices[i], shardings[i])\n\u001b[0m\u001b[1;32m    410\u001b[0m           for i, arg in enumerate(args)]\n\u001b[1;32m    411\u001b[0m \u001b[0;34m\u001b[0m\u001b[0m\n",
      "\u001b[0;32m/gpfs/fs1/home/a/andyli/vishjay/.virtualenvs/CritPointDet/lib/python3.9/site-packages/jax/_src/interpreters/pxla.py\u001b[0m in \u001b[0;36mshard_arg\u001b[0;34m(arg, devices, arg_indices, sharding)\u001b[0m\n\u001b[1;32m    383\u001b[0m   \"\"\"\n\u001b[1;32m    384\u001b[0m   \u001b[0marg\u001b[0m \u001b[0;34m=\u001b[0m \u001b[0mxla\u001b[0m\u001b[0;34m.\u001b[0m\u001b[0mcanonicalize_dtype\u001b[0m\u001b[0;34m(\u001b[0m\u001b[0marg\u001b[0m\u001b[0;34m)\u001b[0m\u001b[0;34m\u001b[0m\u001b[0;34m\u001b[0m\u001b[0m\n\u001b[0;32m--> 385\u001b[0;31m   \u001b[0;32mreturn\u001b[0m \u001b[0mshard_arg_handlers\u001b[0m\u001b[0;34m[\u001b[0m\u001b[0mtype\u001b[0m\u001b[0;34m(\u001b[0m\u001b[0marg\u001b[0m\u001b[0;34m)\u001b[0m\u001b[0;34m]\u001b[0m\u001b[0;34m(\u001b[0m\u001b[0marg\u001b[0m\u001b[0;34m,\u001b[0m \u001b[0mdevices\u001b[0m\u001b[0;34m,\u001b[0m \u001b[0marg_indices\u001b[0m\u001b[0;34m,\u001b[0m \u001b[0msharding\u001b[0m\u001b[0;34m)\u001b[0m\u001b[0;34m\u001b[0m\u001b[0;34m\u001b[0m\u001b[0m\n\u001b[0m\u001b[1;32m    386\u001b[0m \u001b[0;34m\u001b[0m\u001b[0m\n\u001b[1;32m    387\u001b[0m \u001b[0;34m\u001b[0m\u001b[0m\n",
      "\u001b[0;32m/gpfs/fs1/home/a/andyli/vishjay/.virtualenvs/CritPointDet/lib/python3.9/site-packages/jax/_src/interpreters/pxla.py\u001b[0m in \u001b[0;36m_shard_array\u001b[0;34m(x, devices, indices, sharding)\u001b[0m\n\u001b[1;32m    424\u001b[0m \u001b[0mshard_arg_handlers\u001b[0m\u001b[0;34m[\u001b[0m\u001b[0mnp\u001b[0m\u001b[0;34m.\u001b[0m\u001b[0mma\u001b[0m\u001b[0;34m.\u001b[0m\u001b[0mMaskedArray\u001b[0m\u001b[0;34m]\u001b[0m \u001b[0;34m=\u001b[0m \u001b[0m_masked_array_error\u001b[0m\u001b[0;34m\u001b[0m\u001b[0;34m\u001b[0m\u001b[0m\n\u001b[1;32m    425\u001b[0m \u001b[0;34m\u001b[0m\u001b[0m\n\u001b[0;32m--> 426\u001b[0;31m \u001b[0;32mdef\u001b[0m \u001b[0m_shard_array\u001b[0m\u001b[0;34m(\u001b[0m\u001b[0mx\u001b[0m\u001b[0;34m,\u001b[0m \u001b[0mdevices\u001b[0m\u001b[0;34m,\u001b[0m \u001b[0mindices\u001b[0m\u001b[0;34m,\u001b[0m \u001b[0msharding\u001b[0m\u001b[0;34m)\u001b[0m\u001b[0;34m:\u001b[0m\u001b[0;34m\u001b[0m\u001b[0;34m\u001b[0m\u001b[0m\n\u001b[0m\u001b[1;32m    427\u001b[0m   \u001b[0;32mif\u001b[0m \u001b[0mx\u001b[0m\u001b[0;34m.\u001b[0m\u001b[0mdtype\u001b[0m \u001b[0;34m==\u001b[0m \u001b[0mdtypes\u001b[0m\u001b[0;34m.\u001b[0m\u001b[0mfloat0\u001b[0m\u001b[0;34m:\u001b[0m\u001b[0;34m\u001b[0m\u001b[0;34m\u001b[0m\u001b[0m\n\u001b[1;32m    428\u001b[0m     \u001b[0mx\u001b[0m \u001b[0;34m=\u001b[0m \u001b[0mnp\u001b[0m\u001b[0;34m.\u001b[0m\u001b[0mzeros\u001b[0m\u001b[0;34m(\u001b[0m\u001b[0mx\u001b[0m\u001b[0;34m.\u001b[0m\u001b[0mshape\u001b[0m\u001b[0;34m,\u001b[0m \u001b[0mdtype\u001b[0m\u001b[0;34m=\u001b[0m\u001b[0mnp\u001b[0m\u001b[0;34m.\u001b[0m\u001b[0mdtype\u001b[0m\u001b[0;34m(\u001b[0m\u001b[0mbool\u001b[0m\u001b[0;34m)\u001b[0m\u001b[0;34m)\u001b[0m\u001b[0;34m\u001b[0m\u001b[0;34m\u001b[0m\u001b[0m\n",
      "\u001b[0;31mKeyboardInterrupt\u001b[0m: "
     ]
    }
   ],
   "source": [
    "import numpy as np\n",
    "import KeyFunctions as me\n",
    "import jax\n",
    "from time import time as t\n",
    "EOS = 'PR'\n",
    "DataSet = 'Henderson Res Oil'\n",
    "MxN = 0\n",
    "#M = minimizer(MxN, DataSet, EOS)\n",
    "TP = np.array([350, 3.388e6])\n",
    "[y, Tc, Pc, w, C, R, Vc, k, mxNames] = me.LookUpMix(MxN, DataSet, EOS)\n",
    "ts = t()\n",
    "CostFunction(TP, y, Tc, Pc, w, k, R, C, EOS)\n",
    "tf= t()\n",
    "display(tf-ts)"
   ]
  },
  {
   "cell_type": "code",
   "execution_count": null,
   "metadata": {},
   "outputs": [],
   "source": []
  }
 ],
 "metadata": {
  "kernelspec": {
   "display_name": "GenCPPred",
   "language": "python",
   "name": "gencppred"
  },
  "language_info": {
   "codemirror_mode": {
    "name": "ipython",
    "version": 3
   },
   "file_extension": ".py",
   "mimetype": "text/x-python",
   "name": "python",
   "nbconvert_exporter": "python",
   "pygments_lexer": "ipython3",
   "version": "3.11.5"
  }
 },
 "nbformat": 4,
 "nbformat_minor": 5
}
