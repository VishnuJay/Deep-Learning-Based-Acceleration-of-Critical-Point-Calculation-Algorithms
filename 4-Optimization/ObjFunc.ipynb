{
 "cells": [
  {
   "cell_type": "code",
   "execution_count": 1,
   "metadata": {},
   "outputs": [],
   "source": [
    "#nu, a constant dependant on EOS, that affects a.\n",
    "def nu_(EOS):\n",
    "    if EOS == 'SRK':\n",
    "        O1 = 0.42748\n",
    "        O2 = 0.08664\n",
    "        return [O1, O2]\n",
    "    if EOS == 'PR':\n",
    "        O1 = 0.45724\n",
    "        O2 = 0.07780\n",
    "        return [O1, O2] "
   ]
  },
  {
   "cell_type": "code",
   "execution_count": 2,
   "metadata": {},
   "outputs": [],
   "source": [
    "#D1, a parameter that defines the EOS.\n",
    "def d_1(EOS):\n",
    "    import jax.numpy as jnp\n",
    "    if EOS == 'SRK':\n",
    "        u0 = 1\n",
    "        w0 = 0\n",
    "    if EOS == 'PR':\n",
    "        u0 = 2\n",
    "        w0 = -1      \n",
    "    D1 = (u0 + jnp.sqrt(u0**2-4*w0))/2\n",
    "    return D1\n",
    "\n",
    "#D2, a parameter that defines the EOS.\n",
    "def d_2(EOS):\n",
    "    import jax.numpy as jnp  \n",
    "    if EOS == 'SRK':\n",
    "        u0 = 1\n",
    "        w0 = 0\n",
    "    if EOS == 'PR':\n",
    "        u0 = 2\n",
    "        w0 = -1      \n",
    "    D2 = (u0 - jnp.sqrt(u0**2-4*w0))/2\n",
    "    return D2\n",
    "\n",
    "def d_3(D1, D2):\n",
    "    return D1+D2\n",
    "def d_4(D1, D2):\n",
    "    return(D1*D2)"
   ]
  },
  {
   "cell_type": "code",
   "execution_count": 3,
   "metadata": {},
   "outputs": [],
   "source": [
    "#m, the accentricity polynomial.\n",
    "def m_(w, C, EOS):\n",
    "    import jax.numpy as jnp\n",
    "    \n",
    "    m = jnp.zeros([C])\n",
    "    if EOS == 'SRK':\n",
    "        m = m.at[:].set(0.48+1.574*w-0.176*w**2)\n",
    "        return m\n",
    "    if EOS == 'PR':\n",
    "        m = m.at[:].set(0.37464+1.54226*w-0.26992*w**2)\n",
    "        return m"
   ]
  },
  {
   "cell_type": "code",
   "execution_count": 4,
   "metadata": {},
   "outputs": [],
   "source": [
    "#ai, the attraction paramater of each component i.\n",
    "def a_i(T, M, NU, Tc, Pc, R, C):\n",
    "    import jax.numpy as jnp\n",
    "    ai = jnp.zeros([C])\n",
    "    for i in range(C):\n",
    "        ai = ai.at[i].set((R*Tc[i])**2*NU[0]/Pc[i]*(1 + M[i]*(1-(T/Tc[i])**0.5))**2)\n",
    "    return ai"
   ]
  },
  {
   "cell_type": "code",
   "execution_count": 5,
   "metadata": {},
   "outputs": [],
   "source": [
    "#aij, the binary attraction paramater of component system i-j.\n",
    "def a_ij(ai, C, k):\n",
    "    import jax.numpy as jnp\n",
    "    aij = jnp.zeros([C, C])\n",
    "    for i in range(C):\n",
    "        for j in range(C):\n",
    "            aij = aij.at[i,j].set((ai[i]*ai[j])**0.5*(1-k[i][j]))\n",
    "    return aij"
   ]
  },
  {
   "cell_type": "code",
   "execution_count": 6,
   "metadata": {},
   "outputs": [],
   "source": [
    "#bi, the repulsion paramater of each component i.\n",
    "def b_i(NU, Tc, Pc, R, C):\n",
    "    import jax.numpy as jnp\n",
    "    bi = jnp.zeros([C])\n",
    "    for i in range(C):\n",
    "        bi = bi.at[i].set(NU[1]*R*Tc[i]/Pc[i])\n",
    "    return bi"
   ]
  },
  {
   "cell_type": "code",
   "execution_count": 7,
   "metadata": {},
   "outputs": [],
   "source": [
    "#a_tot, the weighted sum of binary attraction interactions.\n",
    "def a_t(y, aij, C):\n",
    "    import jax.numpy as jnp\n",
    "    import jax\n",
    "    a = jnp.array(0)\n",
    "    \n",
    "    yn = jnp.append(y[:-1], (1-jnp.sum(y[:-1])))\n",
    "    \n",
    "    r = C-1\n",
    "    for i in range(C):\n",
    "        for j in range(C):\n",
    "            a += jnp.multiply(jnp.multiply(yn[i],aij[i,j]), yn[j])\n",
    "    return a"
   ]
  },
  {
   "cell_type": "code",
   "execution_count": 8,
   "metadata": {},
   "outputs": [],
   "source": [
    "#b_tot, the weighted sum of repulsion interactions.\n",
    "def b_t(y, bi, C):\n",
    "    import jax.numpy as jnp\n",
    "    import jax\n",
    "    bt = jnp.array(0)\n",
    "    r = C-1\n",
    "    for i in range(C):\n",
    "        bt += y[i]*(bi[i]-bi[r])\n",
    "    bt += bi[r]\n",
    "    return bt"
   ]
  },
  {
   "cell_type": "code",
   "execution_count": 9,
   "metadata": {},
   "outputs": [],
   "source": [
    "def A_dim(a, P, R, T):\n",
    "    import jax.numpy as jnp\n",
    "    return a*P/(R*T)**2"
   ]
  },
  {
   "cell_type": "code",
   "execution_count": 10,
   "metadata": {},
   "outputs": [],
   "source": [
    "def ALPHA_(y, aij, a, C):\n",
    "    import jax.numpy as jnp\n",
    "    import jax\n",
    "    \n",
    "    yn = jnp.append(y[:-1], (1-jnp.sum(y[:-1])))\n",
    "    ALPHA = jnp.zeros(C)\n",
    "    for i in range(C):\n",
    "        for k in range(C):\n",
    "                ALPHA  = ALPHA.at[i].add(yn[k]*aij[k, i])\n",
    "    \n",
    "    ALPHA = ALPHA.at[:].set(ALPHA[:]/a)\n",
    "    \n",
    "    return ALPHA"
   ]
  },
  {
   "cell_type": "code",
   "execution_count": 11,
   "metadata": {},
   "outputs": [],
   "source": [
    "def BETA_(bi, b, C):\n",
    "    BETA = bi/b\n",
    "    return BETA"
   ]
  },
  {
   "cell_type": "code",
   "execution_count": 12,
   "metadata": {},
   "outputs": [],
   "source": [
    "def B_dim(b, P, R, T):\n",
    "    import jax.numpy as jnp\n",
    "    return b*P/(R*T)"
   ]
  },
  {
   "cell_type": "code",
   "execution_count": 13,
   "metadata": {},
   "outputs": [],
   "source": [
    "def CompFact(A, B, EOS):\n",
    "    import jax.numpy as jnp\n",
    "    import jax\n",
    "    #EOS cubic compressbility coefficients\n",
    "    D1 = d_1(EOS)\n",
    "    D2 = d_2(EOS)\n",
    "    D3 = d_3(D1, D2)\n",
    "    D4 = d_4(D1, D2)\n",
    "    \n",
    "    c1 = jnp.array(1)\n",
    "    c2 = jnp.array((D3-1)*B-1)\n",
    "    c3 = jnp.array(A-D3*B-(D3-D4)*B**2)\n",
    "    c4 = jnp.array(-D4*(B**3+B**2)-A*B)\n",
    "    \n",
    "    \n",
    "    #Cubic discriminant\n",
    "    disc = 18*c1*c2*c3*c4 - 4*c2**3*c4 + c2**2*c3**2 - 4*c1*c3**3 - 27*c1**2*c4**2\n",
    "    def threeroot(c1, c2, c3, c4, disc):\n",
    "        #Three Real Roots\n",
    "        def three_distinct(c1, c2, c3, c4):\n",
    "            p1 = (3*c1*c3 - c2**2)/(3*c1**2)\n",
    "            p2 = (2*c2**3 - 9*c1*c2*c3 + 27*c1**2*c4)/(27*c1**3)\n",
    "            arg = 3*p2/(2*p1)*jnp.sqrt(-3/p1)\n",
    "            arg = jax.lax.complex(arg, jnp.array(0.0))\n",
    "\n",
    "            Z1 = 2*(-p1/3)**(1/2)*jnp.cos(jnp.arccos(arg)/3)\n",
    "            Z2 = 2*(-p1/3)**(1/2)*jnp.cos(jnp.arccos(arg)/3-2*jnp.pi/3)\n",
    "            Z3 = 2*(-p1/3)**(1/2)*jnp.cos(jnp.arccos(arg)/3-4*jnp.pi/3)\n",
    "\n",
    "            Z1 = jnp.real(Z1 - c2/(3*c1))\n",
    "            Z2 = jnp.real(Z2 - c2/(3*c1))\n",
    "            Z3 = jnp.real(Z3 - c2/(3*c1))\n",
    "            return jnp.maximum(jnp.maximum(Z1, Z2), Z3)\n",
    "        \n",
    "        def repeated_root(c1, c2, c3, c4):\n",
    "            def one_repeated(c1, c2, c3, c4):\n",
    "                #Double multiplicity root\n",
    "                Z1 = (4*c1*c2*c3-9*c1**2*c4-c2**3)/(c1*(c2**2-3*c1*c3))\n",
    "                Z2 = (9*c1*c4-c2*c3)/(2*(c2**2-3*c1*c3))\n",
    "                return jnp.maximum(Z1, Z2)\n",
    "            def two_repeated(c1, c2, c3, c4):\n",
    "                #Triple multiplicity root\n",
    "                Z3 = -c2/3*c1\n",
    "                return Z3\n",
    "            return jax.lax.cond(c2**2 == 3*c1*c3, two_repeated, one_repeated, c1, c2, c3, c4)\n",
    "    \n",
    "        return jax.lax.cond(disc != 0, three_distinct, repeated_root, c1, c2, c3, c4)\n",
    "    \n",
    "    def oneroot(c1, c2, c3, c4, disc):\n",
    "        #One Real Root, Two Complex Conjugates\n",
    "        \n",
    "        d0 = c2**2 - 3*c1*c3\n",
    "        d1 = 2*c2**3 - 9*c1*c2*c3 + 27*c1**2*c4\n",
    "        \n",
    "        C0 = jnp.cbrt((d1 + jnp.sqrt(d1**2-4*d0**3))/2)\n",
    "        #Select other root if needed\n",
    "        def proot(d1, d0):\n",
    "            C = jnp.cbrt((d1 + jnp.sqrt(d1**2-4*d0**3))/2)\n",
    "            return C\n",
    "        def nroot(d1, d0):\n",
    "            C = jnp.cbrt((d1 - jnp.sqrt(d1**2-4*d0**3))/2)\n",
    "            return C\n",
    "        \n",
    "        C = jax.lax.cond(C0 == 0, nroot, proot, d1, d0)\n",
    "\n",
    "        Z1 = -1/(3*c1)*(c2+C+d0/C)\n",
    "        \n",
    "        return Z1\n",
    "    \n",
    "    return jax.lax.cond(disc >= 0, threeroot, oneroot, c1, c2, c3, c4, disc)"
   ]
  },
  {
   "cell_type": "code",
   "execution_count": 14,
   "metadata": {},
   "outputs": [],
   "source": [
    "def EOS_Params(y, T, P, Tc, Pc, w, k, R, C, EOS):\n",
    "    nu = nu_(EOS)\n",
    "    m = m_(w, C, EOS)\n",
    "    d1 = d_1(EOS)\n",
    "    d2 = d_2(EOS)\n",
    "    \n",
    "    ai = a_i(T, m, nu, Tc, Pc, R, C)\n",
    "    aij = a_ij(ai, C, k)\n",
    "    a = a_t(y, aij, C)\n",
    "    bi = b_i(nu, Tc, Pc, R, C)\n",
    "    b = b_t(y, bi, C)\n",
    "    \n",
    "    \n",
    "    A = A_dim(a, P, R, T)\n",
    "    B = B_dim(b, P, R, T)\n",
    "    \n",
    "    \n",
    "    \n",
    "    Z = CompFact(A, B, EOS)\n",
    "    \n",
    "    ALPHA = ALPHA_(y, aij, a, C)\n",
    "    BETA = BETA_(bi, b, C)\n",
    "    return ai, aij, a, bi, b, A, B, d1, d2, Z, ALPHA, BETA"
   ]
  },
  {
   "cell_type": "code",
   "execution_count": 15,
   "metadata": {},
   "outputs": [],
   "source": [
    "#ln(f/xP) the chemical potential departure for component i.\n",
    "def lnfc(ai, aij, a, bi, b, A, B, d1, d2, Z, ALPHA, BETA, C):\n",
    "    import jax\n",
    "    import jax.numpy as jnp\n",
    "    lnfc = jnp.zeros(C)\n",
    "    E0 = jnp.log((Z+d1*B)/(Z+d2*B))\n",
    "    lnfci = BETA*(Z-1) -jnp.log(Z-B) - 2*(A/B)*ALPHA/(d1-d2)*E0 + (A/B)*BETA/(d1-d2)*E0\n",
    "    lnfc = lnfc.at[:].set(lnfci)\n",
    "        \n",
    "    return lnfc"
   ]
  },
  {
   "cell_type": "code",
   "execution_count": 16,
   "metadata": {},
   "outputs": [],
   "source": [
    "def ChemicalPotential(y, T, P, Tc, Pc, w, k, R, C, EOS):\n",
    "    import jax\n",
    "    import jax.numpy as jnp\n",
    "    \n",
    "    def lnf_(y, T, P, Tc, Pc, w, k, R, C, EOS):\n",
    "        ai, aij, a, bi, b, A, B, d1, d2, Z, ALPHA, BETA = EOS_Params(y, T, P, Tc, Pc, w, k, R, C, EOS)\n",
    "        lnf = lnfc(ai, aij, a, bi, b, A, B, d1, d2, Z, ALPHA, BETA, C)\n",
    "        return lnf\n",
    "    \n",
    "    lnf = lnf_(y, T, P, Tc, Pc, w, k, R, C, EOS)\n",
    "    dlnf_ = jax.jacfwd(lnf_, argnums = 0)\n",
    "    dlnf = dlnf_(y, T, P, Tc, Pc, w, k, R, C, EOS)\n",
    "\n",
    "    r = C-1\n",
    "    dmu = jnp.zeros([C, C])\n",
    "    for i in range(C):\n",
    "        for j in range(C):\n",
    "            if i != j:\n",
    "                if i != r:\n",
    "                    dmuij = dlnf[i, j]*R*T\n",
    "                elif i == r:\n",
    "                    dmuij = (dlnf[r, j] - 1/y[r])*R*T\n",
    "            else:\n",
    "                dmuij = (dlnf[j, j] + 1/y[j])*R*T\n",
    "            \n",
    "            dmu = dmu.at[i, j].set(dmuij)\n",
    "    return dmu"
   ]
  },
  {
   "cell_type": "code",
   "execution_count": 17,
   "metadata": {},
   "outputs": [],
   "source": [
    "def GeneralizedCubicHessian(y, yr, T, P, Tc, Pc, w, k, R, C, EOS):\n",
    "    import jax.numpy as jnp\n",
    "    dmu = ChemicalPotential(jnp.append(y, yr), T, P, Tc, Pc, w, k, R, C, EOS)\n",
    "    r = C-1\n",
    "    H = jnp.zeros([r, r])\n",
    "    \n",
    "    for i in range(r):\n",
    "        for j in range(r):\n",
    "            Hij = dmu[i, j]-dmu[r, j]\n",
    "            H = H.at[i, j].set(Hij)\n",
    "    return H"
   ]
  },
  {
   "cell_type": "code",
   "execution_count": 18,
   "metadata": {},
   "outputs": [],
   "source": [
    "def l_min(H):\n",
    "    import jax.numpy as jnp\n",
    "    import jax\n",
    "    \n",
    "    #Inverse power iteration\n",
    "    H_inv = jnp.linalg.inv(H)\n",
    "    umin = jnp.ones(len(H))\n",
    "    umin = umin/jnp.linalg.norm(umin)\n",
    "    for t in range(50):\n",
    "        umin = jnp.dot(H_inv, umin)\n",
    "        umin = umin/jnp.linalg.norm(umin)\n",
    "    \n",
    "    l = jnp.dot(jnp.dot(H, umin), umin)\n",
    "    return l, umin"
   ]
  },
  {
   "cell_type": "code",
   "execution_count": 19,
   "metadata": {},
   "outputs": [],
   "source": [
    "def CostFunction(TP, y, Tc, Pc, w, k, R, C, EOS):\n",
    "    import jax\n",
    "    import jax.numpy as jnp\n",
    "    T = TP[0]\n",
    "    P = TP[1]\n",
    "    yr = y[-1]\n",
    "    y = y[0:-1]\n",
    "    Hf = jax.jit(GeneralizedCubicHessian, static_argnames=['C', 'R', 'EOS'])\n",
    "    H = Hf(y, yr, T, P, Tc, Pc, w, k, R, C, EOS)\n",
    "    lmin = jax.jit(l_min)\n",
    "    l, u = lmin(H)\n",
    "    \n",
    "    Q = l**2\n",
    "    \n",
    "    dHf = jax.jacfwd(Hf, argnums = 0)\n",
    "    dH = dHf(y, yr, T, P, Tc, Pc, w, k, R, C, EOS)\n",
    "    C = jnp.dot(jnp.dot(jnp.dot(dH, u), u), u)**2\n",
    "    \n",
    "    return C+Q"
   ]
  },
  {
   "cell_type": "code",
   "execution_count": 20,
   "metadata": {},
   "outputs": [],
   "source": [
    "def minimizer(MxN, DataSet, EOS, y_given = None, TP_bound = None):\n",
    "    import jax.numpy as jnp\n",
    "    import KeyFunctions as me\n",
    "    import jax\n",
    "    import numpy as np\n",
    "    import scipy as sp \n",
    "\n",
    "    jax.config.update(\"jax_enable_x64\", True)\n",
    "    [y, Tc, Pc, w, C, R, Vc, k, mxNames] = me.LookUpMix(MxN, DataSet, EOS)\n",
    "    \n",
    "    if y_given is not None:\n",
    "        y = y_given\n",
    "     \n",
    "    TP_guess = [jnp.dot(y, Tc), jnp.dot(y, Pc)]\n",
    "    if TP_bound is None:\n",
    "        TP_bound = [(TP_guess[0]*0.75, TP_guess[0]*1.25), (TP_guess[1], TP_guess[1]*2)]\n",
    "    \n",
    "    minima = sp.optimize.differential_evolution(CostFunction, bounds = TP_bound, args = (y, Tc, Pc, w, k, R, C, EOS), mutation = 0.95, atol = 1e-14, init = 'sobol')\n",
    "    \n",
    "    if minima.fun > 1:\n",
    "        #TP_bound = [(TP_guess[0]-50, TP_guess[0]+200), (TP_guess[1]*0.4, TP_guess[1]*4)]\n",
    "        minima = sp.optimize.differential_evolution(CostFunction, bounds = TP_bound, args = (y, Tc, Pc, w, k, R, C, EOS),\\\n",
    "                                                mutation = 0.95, popsize = 40, tol = 1e-14, recombination = 0.4)\n",
    "        if minima.fun > 1:\n",
    "            display('Erroneous Minima')\n",
    "    \n",
    "    return minima, TP_bound"
   ]
  },
  {
   "cell_type": "code",
   "execution_count": 36,
   "metadata": {},
   "outputs": [],
   "source": [
    "import KeyFunctions as me\n",
    "import scipy as sp\n",
    "import jax.numpy as jnp\n",
    "MxN = 5\n",
    "DataSet = \"DimJiaLi Unique\"\n",
    "EOS = \"SRK\"\n",
    "TP_bound = [(300, 400),(6e6, 8e6)]\n",
    "#minima, TP_bound = minimizer(MxN, DataSet, EOS, y_given = None, TP_bound = TP_bound)\n",
    "\n",
    "R = sp.constants.R\n",
    "y= jnp.array([0.32013065, 0.4021396 , 0.03397377, 0.243756  ])\n",
    "Tc= jnp.array([1444.7587, 1571.4685,  895.5158, 1412.933 ])\n",
    "Pc= jnp.array([ 891032.75,  471466.  , 7106475.5 , 1263401.6 ])\n",
    "w= jnp.array([2.0821772 , 2.159455  , 0.24360026, 1.509761  ])\n",
    "k= jnp.array([[0.        , 0.13556027, 0.12379241, 0.13632333],\\\n",
    "       [0.13556027, 0.        , 0.11582702, 0.13421768],\\\n",
    "       [0.12379241, 0.11582702, 0.        , 0.12719214],\\\n",
    "       [0.13632333, 0.13421768, 0.12719214, 0.        ]])\n",
    "C = len(y)\n"
   ]
  },
  {
   "cell_type": "code",
   "execution_count": null,
   "metadata": {},
   "outputs": [],
   "source": [
    "TP_bound = [(1000, 2000),(10e6, 15e6)]\n",
    "minima = sp.optimize.differential_evolution(CostFunction, bounds = TP_bound, args = (y, Tc, Pc, w, k, R, C, EOS), mutation = 0.95, atol = 1e-14, init = 'sobol', popsize = 40, tol = 1e-14)"
   ]
  },
  {
   "cell_type": "code",
   "execution_count": 33,
   "metadata": {},
   "outputs": [
    {
     "data": {
      "text/plain": [
       "             message: Optimization terminated successfully.\n",
       "             success: True\n",
       "                 fun: 5.236524200021197e+16\n",
       "                   x: [ 1.000e+03  5.016e+06]\n",
       "                 nit: 88\n",
       "                nfev: 11395\n",
       "          population: [[ 1.000e+03  5.016e+06]\n",
       "                       [ 1.000e+03  5.015e+06]\n",
       "                       ...\n",
       "                       [ 1.000e+03  5.016e+06]\n",
       "                       [ 1.000e+03  5.016e+06]]\n",
       " population_energies: [ 5.237e+16  5.237e+16 ...  5.237e+16  5.237e+16]"
      ]
     },
     "execution_count": 33,
     "metadata": {},
     "output_type": "execute_result"
    }
   ],
   "source": [
    "minima"
   ]
  },
  {
   "cell_type": "code",
   "execution_count": null,
   "metadata": {},
   "outputs": [],
   "source": [
    "[y, Tc, Pc, w, C, R, Vc, k, mxNames] = me.LookUpMix(MxN, DataSet, EOS)\n",
    "x, f, _, _ = sp.optimize.brute(CostFunction, ranges = TP_bound, args = (y, Tc, Pc, w, k, R, C, EOS), full_output =True, finish = None)\n",
    "display(x)\n",
    "display(f)"
   ]
  },
  {
   "cell_type": "code",
   "execution_count": null,
   "metadata": {},
   "outputs": [],
   "source": []
  }
 ],
 "metadata": {
  "kernelspec": {
   "display_name": "GenCPPred",
   "language": "python",
   "name": "gencppred"
  },
  "language_info": {
   "codemirror_mode": {
    "name": "ipython",
    "version": 3
   },
   "file_extension": ".py",
   "mimetype": "text/x-python",
   "name": "python",
   "nbconvert_exporter": "python",
   "pygments_lexer": "ipython3",
   "version": "3.11.5"
  }
 },
 "nbformat": 4,
 "nbformat_minor": 5
}
